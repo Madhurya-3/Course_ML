
  {
   "cell_type": "markdown",
   "id": "cca59e49",
   "metadata": {},
   "source": [
    "### <span style=\"color:darkred\"><b><u>Business Context</u></b></span>\n",
    "\n",
    "#### To develop a model for predicting fraudulent transactions for a financial company and use insights from the model to develop an actionable plan. "
   ]
  },
  {
   "cell_type": "markdown",
   "id": "b4735c9f",
   "metadata": {},
   "source": [
    "### <span style=\"color:darkred\"><b><u>Problem Domain - \"Financial Industry\" </u></b></span>\n",
    "\n",
    "Fraud transaction detection is of utmost importance in the financial industry due to the potential financial losses, reputational damage, and customer trust implications caused by fraudulent activities."
   ]
  },
  {
   "cell_type": "markdown",
   "id": "177cc85a",
   "metadata": {},
   "source": [
    "### <span style=\"color:darkred\"><b><u>Column Description</u></b></span>\n",
    "\n",
    "- step - maps a unit of time in the real world. In this case 1 step is 1 hour of time. Total steps 744 (30 days simulation). \n",
    "<br>\n",
    "- type - CASH-IN, CASH-OUT, DEBIT, PAYMENT and TRANSFER.\n",
    "<br>\n",
    "- amount - amount of the transaction in local currency.\n",
    "<br>\n",
    "- nameOrig - customer who started the transaction\n",
    "<br>\n",
    "- oldbalanceOrg - initial balance before the transaction\n",
    "<br>\n",
    "- newbalanceOrig - new balance after the transaction\n",
    "<br>\n",
    "- nameDest - customer who is the recipient of the transaction\n",
    "<br>\n",
    "- oldbalanceDest - initial balance recipient before the transaction. Note that there is not information for customers that start with M (Merchants).\n",
    "<br>\n",
    "- newbalanceDest - new balance recipient after the transaction. Note that there is not information for customers that start with M (Merchants).\n",
    "<br>\n",
    "- isFraud - This is the transactions made by the fraudulent agents inside the simulation. In this specific dataset the fraudulent behavior of the agents aims to profit by taking control or customers accounts and try to empty the funds by transferring to another account and then cashing out of the system.\n",
    "<br>\n",
    "- isFlaggedFraud - The business model aims to control massive transfers from one account to another and flags illegal attempts. An illegal attempt in this dataset is an attempt to transfer more than 200.000 in a single transaction."
   ]
  },
  {
   "cell_type": "markdown",
   "id": "589e4a12",
   "metadata": {},
   "source": [
    "### Importing Libraries"
   ]
  },
  {
   "cell_type": "code",
   "execution_count": 1,
   "id": "9b200a0b",
   "metadata": {},
   "outputs": [],
   "source": [
    "import pandas as pd\n",
    "import numpy as np\n",
    "\n",
    "import warnings \n",
    "warnings.filterwarnings('ignore')"
   ]
  },
  {
   "cell_type": "markdown",
   "id": "4ebda295",
   "metadata": {},
   "source": [
    "### Reading the Dataset\n",
    "Data for the\n",
    "case is available in CSV format having 6362620 rows and 10 columns."
   ]
  },
  {
   "cell_type": "code",
   "execution_count": 2,
   "id": "372a3d6a",
   "metadata": {},
   "outputs": [],
   "source": [
    "data = pd.read_csv('Fraud.csv')"
   ]
  },
  {
   "cell_type": "code",
   "execution_count": 3,
   "id": "848e1c21",
   "metadata": {},
   "outputs": [
    {
     "data": {
      "text/plain": [
       "(6362620, 11)"
      ]
     },
     "execution_count": 3,
     "metadata": {},
     "output_type": "execute_result"
    }
   ],
   "source": [
    "data.shape"
   ]
  },
  {
   "cell_type": "code",
   "execution_count": 4,
   "id": "0a898452",
   "metadata": {},
   "outputs": [
    {
     "data": {
      "text/html": [
       "<div>\n",
       "<style scoped>\n",
       "    .dataframe tbody tr th:only-of-type {\n",
       "        vertical-align: middle;\n",
       "    }\n",
       "\n",
       "    .dataframe tbody tr th {\n",
       "        vertical-align: top;\n",
       "    }\n",
       "\n",
       "    .dataframe thead th {\n",
       "        text-align: right;\n",
       "    }\n",
       "</style>\n",
       "<table border=\"1\" class=\"dataframe\">\n",
       "  <thead>\n",
       "    <tr style=\"text-align: right;\">\n",
       "      <th></th>\n",
       "      <th>step</th>\n",
       "      <th>type</th>\n",
       "      <th>amount</th>\n",
       "      <th>nameOrig</th>\n",
       "      <th>oldbalanceOrg</th>\n",
       "      <th>newbalanceOrig</th>\n",
       "      <th>nameDest</th>\n",
       "      <th>oldbalanceDest</th>\n",
       "      <th>newbalanceDest</th>\n",
       "      <th>isFraud</th>\n",
       "      <th>isFlaggedFraud</th>\n",
       "    </tr>\n",
       "  </thead>\n",
       "  <tbody>\n",
       "    <tr>\n",
       "      <th>0</th>\n",
       "      <td>1</td>\n",
       "      <td>PAYMENT</td>\n",
       "      <td>9839.64</td>\n",
       "      <td>C1231006815</td>\n",
       "      <td>170136.0</td>\n",
       "      <td>160296.36</td>\n",
       "      <td>M1979787155</td>\n",
       "      <td>0.0</td>\n",
       "      <td>0.0</td>\n",
       "      <td>0</td>\n",
       "      <td>0</td>\n",
       "    </tr>\n",
       "    <tr>\n",
       "      <th>1</th>\n",
       "      <td>1</td>\n",
       "      <td>PAYMENT</td>\n",
       "      <td>1864.28</td>\n",
       "      <td>C1666544295</td>\n",
       "      <td>21249.0</td>\n",
       "      <td>19384.72</td>\n",
       "      <td>M2044282225</td>\n",
       "      <td>0.0</td>\n",
       "      <td>0.0</td>\n",
       "      <td>0</td>\n",
       "      <td>0</td>\n",
       "    </tr>\n",
       "    <tr>\n",
       "      <th>2</th>\n",
       "      <td>1</td>\n",
       "      <td>TRANSFER</td>\n",
       "      <td>181.00</td>\n",
       "      <td>C1305486145</td>\n",
       "      <td>181.0</td>\n",
       "      <td>0.00</td>\n",
       "      <td>C553264065</td>\n",
       "      <td>0.0</td>\n",
       "      <td>0.0</td>\n",
       "      <td>1</td>\n",
       "      <td>0</td>\n",
       "    </tr>\n",
       "    <tr>\n",
       "      <th>3</th>\n",
       "      <td>1</td>\n",
       "      <td>CASH_OUT</td>\n",
       "      <td>181.00</td>\n",
       "      <td>C840083671</td>\n",
       "      <td>181.0</td>\n",
       "      <td>0.00</td>\n",
       "      <td>C38997010</td>\n",
       "      <td>21182.0</td>\n",
       "      <td>0.0</td>\n",
       "      <td>1</td>\n",
       "      <td>0</td>\n",
       "    </tr>\n",
       "    <tr>\n",
       "      <th>4</th>\n",
       "      <td>1</td>\n",
       "      <td>PAYMENT</td>\n",
       "      <td>11668.14</td>\n",
       "      <td>C2048537720</td>\n",
       "      <td>41554.0</td>\n",
       "      <td>29885.86</td>\n",
       "      <td>M1230701703</td>\n",
       "      <td>0.0</td>\n",
       "      <td>0.0</td>\n",
       "      <td>0</td>\n",
       "      <td>0</td>\n",
       "    </tr>\n",
       "  </tbody>\n",
       "</table>\n",
       "</div>"
      ],
      "text/plain": [
       "   step      type    amount     nameOrig  oldbalanceOrg  newbalanceOrig  \\\n",
       "0     1   PAYMENT   9839.64  C1231006815       170136.0       160296.36   \n",
       "1     1   PAYMENT   1864.28  C1666544295        21249.0        19384.72   \n",
       "2     1  TRANSFER    181.00  C1305486145          181.0            0.00   \n",
       "3     1  CASH_OUT    181.00   C840083671          181.0            0.00   \n",
       "4     1   PAYMENT  11668.14  C2048537720        41554.0        29885.86   \n",
       "\n",
       "      nameDest  oldbalanceDest  newbalanceDest  isFraud  isFlaggedFraud  \n",
       "0  M1979787155             0.0             0.0        0               0  \n",
       "1  M2044282225             0.0             0.0        0               0  \n",
       "2   C553264065             0.0             0.0        1               0  \n",
       "3    C38997010         21182.0             0.0        1               0  \n",
       "4  M1230701703             0.0             0.0        0               0  "
      ]
     },
     "execution_count": 4,
     "metadata": {},
     "output_type": "execute_result"
    }
   ],
   "source": [
    "data.head()"
   ]
  },
  {
   "cell_type": "code",
   "execution_count": 5,
   "id": "1792afee",
   "metadata": {},
   "outputs": [
    {
     "data": {
      "text/html": [
       "<div>\n",
       "<style scoped>\n",
       "    .dataframe tbody tr th:only-of-type {\n",
       "        vertical-align: middle;\n",
       "    }\n",
       "\n",
       "    .dataframe tbody tr th {\n",
       "        vertical-align: top;\n",
       "    }\n",
       "\n",
       "    .dataframe thead th {\n",
       "        text-align: right;\n",
       "    }\n",
       "</style>\n",
       "<table border=\"1\" class=\"dataframe\">\n",
       "  <thead>\n",
       "    <tr style=\"text-align: right;\">\n",
       "      <th></th>\n",
       "      <th>step</th>\n",
       "      <th>type</th>\n",
       "      <th>amount</th>\n",
       "      <th>nameOrig</th>\n",
       "      <th>oldbalanceOrg</th>\n",
       "      <th>newbalanceOrig</th>\n",
       "      <th>nameDest</th>\n",
       "      <th>oldbalanceDest</th>\n",
       "      <th>newbalanceDest</th>\n",
       "      <th>isFraud</th>\n",
       "      <th>isFlaggedFraud</th>\n",
       "    </tr>\n",
       "  </thead>\n",
       "  <tbody>\n",
       "    <tr>\n",
       "      <th>6362615</th>\n",
       "      <td>743</td>\n",
       "      <td>CASH_OUT</td>\n",
       "      <td>339682.13</td>\n",
       "      <td>C786484425</td>\n",
       "      <td>339682.13</td>\n",
       "      <td>0.0</td>\n",
       "      <td>C776919290</td>\n",
       "      <td>0.00</td>\n",
       "      <td>339682.13</td>\n",
       "      <td>1</td>\n",
       "      <td>0</td>\n",
       "    </tr>\n",
       "    <tr>\n",
       "      <th>6362616</th>\n",
       "      <td>743</td>\n",
       "      <td>TRANSFER</td>\n",
       "      <td>6311409.28</td>\n",
       "      <td>C1529008245</td>\n",
       "      <td>6311409.28</td>\n",
       "      <td>0.0</td>\n",
       "      <td>C1881841831</td>\n",
       "      <td>0.00</td>\n",
       "      <td>0.00</td>\n",
       "      <td>1</td>\n",
       "      <td>0</td>\n",
       "    </tr>\n",
       "    <tr>\n",
       "      <th>6362617</th>\n",
       "      <td>743</td>\n",
       "      <td>CASH_OUT</td>\n",
       "      <td>6311409.28</td>\n",
       "      <td>C1162922333</td>\n",
       "      <td>6311409.28</td>\n",
       "      <td>0.0</td>\n",
       "      <td>C1365125890</td>\n",
       "      <td>68488.84</td>\n",
       "      <td>6379898.11</td>\n",
       "      <td>1</td>\n",
       "      <td>0</td>\n",
       "    </tr>\n",
       "    <tr>\n",
       "      <th>6362618</th>\n",
       "      <td>743</td>\n",
       "      <td>TRANSFER</td>\n",
       "      <td>850002.52</td>\n",
       "      <td>C1685995037</td>\n",
       "      <td>850002.52</td>\n",
       "      <td>0.0</td>\n",
       "      <td>C2080388513</td>\n",
       "      <td>0.00</td>\n",
       "      <td>0.00</td>\n",
       "      <td>1</td>\n",
       "      <td>0</td>\n",
       "    </tr>\n",
       "    <tr>\n",
       "      <th>6362619</th>\n",
       "      <td>743</td>\n",
       "      <td>CASH_OUT</td>\n",
       "      <td>850002.52</td>\n",
       "      <td>C1280323807</td>\n",
       "      <td>850002.52</td>\n",
       "      <td>0.0</td>\n",
       "      <td>C873221189</td>\n",
       "      <td>6510099.11</td>\n",
       "      <td>7360101.63</td>\n",
       "      <td>1</td>\n",
       "      <td>0</td>\n",
       "    </tr>\n",
       "  </tbody>\n",
       "</table>\n",
       "</div>"
      ],
      "text/plain": [
       "         step      type      amount     nameOrig  oldbalanceOrg  \\\n",
       "6362615   743  CASH_OUT   339682.13   C786484425      339682.13   \n",
       "6362616   743  TRANSFER  6311409.28  C1529008245     6311409.28   \n",
       "6362617   743  CASH_OUT  6311409.28  C1162922333     6311409.28   \n",
       "6362618   743  TRANSFER   850002.52  C1685995037      850002.52   \n",
       "6362619   743  CASH_OUT   850002.52  C1280323807      850002.52   \n",
       "\n",
       "         newbalanceOrig     nameDest  oldbalanceDest  newbalanceDest  isFraud  \\\n",
       "6362615             0.0   C776919290            0.00       339682.13        1   \n",
       "6362616             0.0  C1881841831            0.00            0.00        1   \n",
       "6362617             0.0  C1365125890        68488.84      6379898.11        1   \n",
       "6362618             0.0  C2080388513            0.00            0.00        1   \n",
       "6362619             0.0   C873221189      6510099.11      7360101.63        1   \n",
       "\n",
       "         isFlaggedFraud  \n",
       "6362615               0  \n",
       "6362616               0  \n",
       "6362617               0  \n",
       "6362618               0  \n",
       "6362619               0  "
      ]
     },
     "execution_count": 5,
     "metadata": {},
     "output_type": "execute_result"
    }
   ],
   "source": [
    "data.tail()"
   ]
  },
  {
   "cell_type": "markdown",
   "id": "662e126f",
   "metadata": {},
   "source": [
    "***"
   ]
  },
  {
   "cell_type": "markdown",
   "id": "cd7d2eaa",
   "metadata": {},
   "source": [
    "### Exploratory Data Analysis, Data Preprocessing and Data Visualizations"
   ]
  },
  {
   "cell_type": "code",
   "execution_count": 6,
   "id": "52a77fd9",
   "metadata": {},
   "outputs": [
    {
     "name": "stdout",
     "output_type": "stream",
     "text": [
      "<class 'pandas.core.frame.DataFrame'>\n",
      "RangeIndex: 6362620 entries, 0 to 6362619\n",
      "Data columns (total 11 columns):\n",
      " #   Column          Dtype  \n",
      "---  ------          -----  \n",
      " 0   step            int64  \n",
      " 1   type            object \n",
      " 2   amount          float64\n",
      " 3   nameOrig        object \n",
      " 4   oldbalanceOrg   float64\n",
      " 5   newbalanceOrig  float64\n",
      " 6   nameDest        object \n",
      " 7   oldbalanceDest  float64\n",
      " 8   newbalanceDest  float64\n",
      " 9   isFraud         int64  \n",
      " 10  isFlaggedFraud  int64  \n",
      "dtypes: float64(5), int64(3), object(3)\n",
      "memory usage: 534.0+ MB\n"
     ]
    }
   ],
   "source": [
    "data.info()"
   ]
  },
  {
   "cell_type": "code",
   "execution_count": 7,
   "id": "99a7d21e",
   "metadata": {},
   "outputs": [
    {
     "data": {
      "text/plain": [
       "0"
      ]
     },
     "execution_count": 7,
     "metadata": {},
     "output_type": "execute_result"
    }
   ],
   "source": [
    "data.duplicated().sum()"
   ]
  },
  {
   "cell_type": "markdown",
   "id": "dd4b5312",
   "metadata": {},
   "source": [
    "#### Checking for null values"
   ]
  },
  {
   "cell_type": "code",
   "execution_count": 8,
   "id": "4e9cb746",
   "metadata": {},
   "outputs": [
    {
     "data": {
      "text/plain": [
       "step              0\n",
       "type              0\n",
       "amount            0\n",
       "nameOrig          0\n",
       "oldbalanceOrg     0\n",
       "newbalanceOrig    0\n",
       "nameDest          0\n",
       "oldbalanceDest    0\n",
       "newbalanceDest    0\n",
       "isFraud           0\n",
       "isFlaggedFraud    0\n",
       "dtype: int64"
      ]
     },
     "execution_count": 8,
     "metadata": {},
     "output_type": "execute_result"
    }
   ],
   "source": [
    "data.isnull().sum()"
   ]
  },
  {
   "cell_type": "markdown",
   "id": "e80d1bb7",
   "metadata": {},
   "source": [
    "#### Feature Engineering"
   ]
  },
  {
   "cell_type": "code",
   "execution_count": 9,
   "id": "6709790c",
   "metadata": {},
   "outputs": [
    {
     "data": {
      "text/plain": [
       "743"
      ]
     },
     "execution_count": 9,
     "metadata": {},
     "output_type": "execute_result"
    }
   ],
   "source": [
    "data['step'].nunique()"
   ]
  },
  {
   "cell_type": "markdown",
   "id": "140d2eb3",
   "metadata": {},
   "source": [
    "To consider the time of the day in which major fraud transactions take place, the column 'step must be used'. But it has total 743 unique values, which may result in high cardinality. It can lead to increased memory usage. So, it may require additional feature engineering to derive meaningful insights from the data.\n",
    "\n",
    "So, step is converted to 24 hours (of each day), further to time period (morning, evening,..), so that the model doesn't get biased to this feature."
   ]
  },
  {
   "cell_type": "code",
   "execution_count": 10,
   "id": "d087274d",
   "metadata": {},
   "outputs": [],
   "source": [
    "data['hour_of_day'] = (data['step']) % 24"
   ]
  },
  {
   "cell_type": "code",
   "execution_count": 11,
   "id": "85566afe",
   "metadata": {},
   "outputs": [],
   "source": [
    "bins = [0, 5, 12, 16, 20, 24]\n",
    "labels = ['Midnight','Morning', 'Afternoon', 'Evening', 'Night']\n",
    "\n",
    "# Create a new column with the bin labels based on 'step' values\n",
    "data['time_of_day'] = pd.cut(data['hour_of_day'], bins=bins, labels=labels, right=False)"
   ]
  },
  {
   "cell_type": "code",
   "execution_count": 12,
   "id": "5007b94d",
   "metadata": {},
   "outputs": [
    {
     "data": {
      "text/html": [
       "<div>\n",
       "<style scoped>\n",
       "    .dataframe tbody tr th:only-of-type {\n",
       "        vertical-align: middle;\n",
       "    }\n",
       "\n",
       "    .dataframe tbody tr th {\n",
       "        vertical-align: top;\n",
       "    }\n",
       "\n",
       "    .dataframe thead th {\n",
       "        text-align: right;\n",
       "    }\n",
       "</style>\n",
       "<table border=\"1\" class=\"dataframe\">\n",
       "  <thead>\n",
       "    <tr style=\"text-align: right;\">\n",
       "      <th></th>\n",
       "      <th>step</th>\n",
       "      <th>type</th>\n",
       "      <th>amount</th>\n",
       "      <th>nameOrig</th>\n",
       "      <th>oldbalanceOrg</th>\n",
       "      <th>newbalanceOrig</th>\n",
       "      <th>nameDest</th>\n",
       "      <th>oldbalanceDest</th>\n",
       "      <th>newbalanceDest</th>\n",
       "      <th>isFraud</th>\n",
       "      <th>isFlaggedFraud</th>\n",
       "      <th>hour_of_day</th>\n",
       "      <th>time_of_day</th>\n",
       "    </tr>\n",
       "  </thead>\n",
       "  <tbody>\n",
       "    <tr>\n",
       "      <th>0</th>\n",
       "      <td>1</td>\n",
       "      <td>PAYMENT</td>\n",
       "      <td>9839.64</td>\n",
       "      <td>C1231006815</td>\n",
       "      <td>170136.0</td>\n",
       "      <td>160296.36</td>\n",
       "      <td>M1979787155</td>\n",
       "      <td>0.0</td>\n",
       "      <td>0.0</td>\n",
       "      <td>0</td>\n",
       "      <td>0</td>\n",
       "      <td>1</td>\n",
       "      <td>Midnight</td>\n",
       "    </tr>\n",
       "    <tr>\n",
       "      <th>1</th>\n",
       "      <td>1</td>\n",
       "      <td>PAYMENT</td>\n",
       "      <td>1864.28</td>\n",
       "      <td>C1666544295</td>\n",
       "      <td>21249.0</td>\n",
       "      <td>19384.72</td>\n",
       "      <td>M2044282225</td>\n",
       "      <td>0.0</td>\n",
       "      <td>0.0</td>\n",
       "      <td>0</td>\n",
       "      <td>0</td>\n",
       "      <td>1</td>\n",
       "      <td>Midnight</td>\n",
       "    </tr>\n",
       "    <tr>\n",
       "      <th>2</th>\n",
       "      <td>1</td>\n",
       "      <td>TRANSFER</td>\n",
       "      <td>181.00</td>\n",
       "      <td>C1305486145</td>\n",
       "      <td>181.0</td>\n",
       "      <td>0.00</td>\n",
       "      <td>C553264065</td>\n",
       "      <td>0.0</td>\n",
       "      <td>0.0</td>\n",
       "      <td>1</td>\n",
       "      <td>0</td>\n",
       "      <td>1</td>\n",
       "      <td>Midnight</td>\n",
       "    </tr>\n",
       "    <tr>\n",
       "      <th>3</th>\n",
       "      <td>1</td>\n",
       "      <td>CASH_OUT</td>\n",
       "      <td>181.00</td>\n",
       "      <td>C840083671</td>\n",
       "      <td>181.0</td>\n",
       "      <td>0.00</td>\n",
       "      <td>C38997010</td>\n",
       "      <td>21182.0</td>\n",
       "      <td>0.0</td>\n",
       "      <td>1</td>\n",
       "      <td>0</td>\n",
       "      <td>1</td>\n",
       "      <td>Midnight</td>\n",
       "    </tr>\n",
       "    <tr>\n",
       "      <th>4</th>\n",
       "      <td>1</td>\n",
       "      <td>PAYMENT</td>\n",
       "      <td>11668.14</td>\n",
       "      <td>C2048537720</td>\n",
       "      <td>41554.0</td>\n",
       "      <td>29885.86</td>\n",
       "      <td>M1230701703</td>\n",
       "      <td>0.0</td>\n",
       "      <td>0.0</td>\n",
       "      <td>0</td>\n",
       "      <td>0</td>\n",
       "      <td>1</td>\n",
       "      <td>Midnight</td>\n",
       "    </tr>\n",
       "  </tbody>\n",
       "</table>\n",
       "</div>"
      ],
      "text/plain": [
       "   step      type    amount     nameOrig  oldbalanceOrg  newbalanceOrig  \\\n",
       "0     1   PAYMENT   9839.64  C1231006815       170136.0       160296.36   \n",
       "1     1   PAYMENT   1864.28  C1666544295        21249.0        19384.72   \n",
       "2     1  TRANSFER    181.00  C1305486145          181.0            0.00   \n",
       "3     1  CASH_OUT    181.00   C840083671          181.0            0.00   \n",
       "4     1   PAYMENT  11668.14  C2048537720        41554.0        29885.86   \n",
       "\n",
       "      nameDest  oldbalanceDest  newbalanceDest  isFraud  isFlaggedFraud  \\\n",
       "0  M1979787155             0.0             0.0        0               0   \n",
       "1  M2044282225             0.0             0.0        0               0   \n",
       "2   C553264065             0.0             0.0        1               0   \n",
       "3    C38997010         21182.0             0.0        1               0   \n",
       "4  M1230701703             0.0             0.0        0               0   \n",
       "\n",
       "   hour_of_day time_of_day  \n",
       "0            1    Midnight  \n",
       "1            1    Midnight  \n",
       "2            1    Midnight  \n",
       "3            1    Midnight  \n",
       "4            1    Midnight  "
      ]
     },
     "execution_count": 12,
     "metadata": {},
     "output_type": "execute_result"
    }
   ],
   "source": [
    "data.head()"
   ]
  },
  {
   "cell_type": "code",
   "execution_count": 13,
   "id": "c6a5296a",
   "metadata": {},
   "outputs": [
    {
     "data": {
      "text/html": [
       "<div>\n",
       "<style scoped>\n",
       "    .dataframe tbody tr th:only-of-type {\n",
       "        vertical-align: middle;\n",
       "    }\n",
       "\n",
       "    .dataframe tbody tr th {\n",
       "        vertical-align: top;\n",
       "    }\n",
       "\n",
       "    .dataframe thead th {\n",
       "        text-align: right;\n",
       "    }\n",
       "</style>\n",
       "<table border=\"1\" class=\"dataframe\">\n",
       "  <thead>\n",
       "    <tr style=\"text-align: right;\">\n",
       "      <th></th>\n",
       "      <th>step</th>\n",
       "      <th>type</th>\n",
       "      <th>amount</th>\n",
       "      <th>nameOrig</th>\n",
       "      <th>oldbalanceOrg</th>\n",
       "      <th>newbalanceOrig</th>\n",
       "      <th>nameDest</th>\n",
       "      <th>oldbalanceDest</th>\n",
       "      <th>newbalanceDest</th>\n",
       "      <th>isFraud</th>\n",
       "      <th>isFlaggedFraud</th>\n",
       "      <th>hour_of_day</th>\n",
       "      <th>time_of_day</th>\n",
       "    </tr>\n",
       "  </thead>\n",
       "  <tbody>\n",
       "    <tr>\n",
       "      <th>660051</th>\n",
       "      <td>36</td>\n",
       "      <td>CASH_OUT</td>\n",
       "      <td>36657.51</td>\n",
       "      <td>C297492393</td>\n",
       "      <td>9523.00</td>\n",
       "      <td>0.00</td>\n",
       "      <td>C1020952192</td>\n",
       "      <td>0.00</td>\n",
       "      <td>36657.51</td>\n",
       "      <td>0</td>\n",
       "      <td>0</td>\n",
       "      <td>12</td>\n",
       "      <td>Afternoon</td>\n",
       "    </tr>\n",
       "    <tr>\n",
       "      <th>660052</th>\n",
       "      <td>36</td>\n",
       "      <td>CASH_OUT</td>\n",
       "      <td>127512.16</td>\n",
       "      <td>C1280498654</td>\n",
       "      <td>0.00</td>\n",
       "      <td>0.00</td>\n",
       "      <td>C1607998216</td>\n",
       "      <td>353179.00</td>\n",
       "      <td>480691.16</td>\n",
       "      <td>0</td>\n",
       "      <td>0</td>\n",
       "      <td>12</td>\n",
       "      <td>Afternoon</td>\n",
       "    </tr>\n",
       "    <tr>\n",
       "      <th>660053</th>\n",
       "      <td>36</td>\n",
       "      <td>CASH_OUT</td>\n",
       "      <td>341056.99</td>\n",
       "      <td>C1615256363</td>\n",
       "      <td>0.00</td>\n",
       "      <td>0.00</td>\n",
       "      <td>C1062254208</td>\n",
       "      <td>3808178.07</td>\n",
       "      <td>4149235.05</td>\n",
       "      <td>0</td>\n",
       "      <td>0</td>\n",
       "      <td>12</td>\n",
       "      <td>Afternoon</td>\n",
       "    </tr>\n",
       "    <tr>\n",
       "      <th>660054</th>\n",
       "      <td>36</td>\n",
       "      <td>CASH_OUT</td>\n",
       "      <td>251880.09</td>\n",
       "      <td>C300920446</td>\n",
       "      <td>0.00</td>\n",
       "      <td>0.00</td>\n",
       "      <td>C963801415</td>\n",
       "      <td>2370189.64</td>\n",
       "      <td>2622069.72</td>\n",
       "      <td>0</td>\n",
       "      <td>0</td>\n",
       "      <td>12</td>\n",
       "      <td>Afternoon</td>\n",
       "    </tr>\n",
       "    <tr>\n",
       "      <th>660055</th>\n",
       "      <td>36</td>\n",
       "      <td>CASH_OUT</td>\n",
       "      <td>157784.82</td>\n",
       "      <td>C1524821501</td>\n",
       "      <td>0.00</td>\n",
       "      <td>0.00</td>\n",
       "      <td>C424605810</td>\n",
       "      <td>1138738.72</td>\n",
       "      <td>1101343.62</td>\n",
       "      <td>0</td>\n",
       "      <td>0</td>\n",
       "      <td>12</td>\n",
       "      <td>Afternoon</td>\n",
       "    </tr>\n",
       "    <tr>\n",
       "      <th>...</th>\n",
       "      <td>...</td>\n",
       "      <td>...</td>\n",
       "      <td>...</td>\n",
       "      <td>...</td>\n",
       "      <td>...</td>\n",
       "      <td>...</td>\n",
       "      <td>...</td>\n",
       "      <td>...</td>\n",
       "      <td>...</td>\n",
       "      <td>...</td>\n",
       "      <td>...</td>\n",
       "      <td>...</td>\n",
       "      <td>...</td>\n",
       "    </tr>\n",
       "    <tr>\n",
       "      <th>699820</th>\n",
       "      <td>36</td>\n",
       "      <td>CASH_OUT</td>\n",
       "      <td>36660.11</td>\n",
       "      <td>C1264349678</td>\n",
       "      <td>12488.00</td>\n",
       "      <td>0.00</td>\n",
       "      <td>C977869926</td>\n",
       "      <td>63065.32</td>\n",
       "      <td>99725.43</td>\n",
       "      <td>0</td>\n",
       "      <td>0</td>\n",
       "      <td>12</td>\n",
       "      <td>Afternoon</td>\n",
       "    </tr>\n",
       "    <tr>\n",
       "      <th>699821</th>\n",
       "      <td>36</td>\n",
       "      <td>PAYMENT</td>\n",
       "      <td>15548.89</td>\n",
       "      <td>C1662050388</td>\n",
       "      <td>0.00</td>\n",
       "      <td>0.00</td>\n",
       "      <td>M249904392</td>\n",
       "      <td>0.00</td>\n",
       "      <td>0.00</td>\n",
       "      <td>0</td>\n",
       "      <td>0</td>\n",
       "      <td>12</td>\n",
       "      <td>Afternoon</td>\n",
       "    </tr>\n",
       "    <tr>\n",
       "      <th>699822</th>\n",
       "      <td>36</td>\n",
       "      <td>CASH_IN</td>\n",
       "      <td>192770.27</td>\n",
       "      <td>C1629227889</td>\n",
       "      <td>25482.00</td>\n",
       "      <td>218252.27</td>\n",
       "      <td>C1202769194</td>\n",
       "      <td>1946233.66</td>\n",
       "      <td>1753463.39</td>\n",
       "      <td>0</td>\n",
       "      <td>0</td>\n",
       "      <td>12</td>\n",
       "      <td>Afternoon</td>\n",
       "    </tr>\n",
       "    <tr>\n",
       "      <th>699823</th>\n",
       "      <td>36</td>\n",
       "      <td>CASH_IN</td>\n",
       "      <td>262632.97</td>\n",
       "      <td>C1239926205</td>\n",
       "      <td>218252.27</td>\n",
       "      <td>480885.24</td>\n",
       "      <td>C1344532196</td>\n",
       "      <td>663456.90</td>\n",
       "      <td>400823.93</td>\n",
       "      <td>0</td>\n",
       "      <td>0</td>\n",
       "      <td>12</td>\n",
       "      <td>Afternoon</td>\n",
       "    </tr>\n",
       "    <tr>\n",
       "      <th>699824</th>\n",
       "      <td>36</td>\n",
       "      <td>CASH_IN</td>\n",
       "      <td>185519.05</td>\n",
       "      <td>C756125333</td>\n",
       "      <td>480885.24</td>\n",
       "      <td>666404.29</td>\n",
       "      <td>C1794907032</td>\n",
       "      <td>206505.50</td>\n",
       "      <td>20986.44</td>\n",
       "      <td>0</td>\n",
       "      <td>0</td>\n",
       "      <td>12</td>\n",
       "      <td>Afternoon</td>\n",
       "    </tr>\n",
       "  </tbody>\n",
       "</table>\n",
       "<p>39774 rows × 13 columns</p>\n",
       "</div>"
      ],
      "text/plain": [
       "        step      type     amount     nameOrig  oldbalanceOrg  newbalanceOrig  \\\n",
       "660051    36  CASH_OUT   36657.51   C297492393        9523.00            0.00   \n",
       "660052    36  CASH_OUT  127512.16  C1280498654           0.00            0.00   \n",
       "660053    36  CASH_OUT  341056.99  C1615256363           0.00            0.00   \n",
       "660054    36  CASH_OUT  251880.09   C300920446           0.00            0.00   \n",
       "660055    36  CASH_OUT  157784.82  C1524821501           0.00            0.00   \n",
       "...      ...       ...        ...          ...            ...             ...   \n",
       "699820    36  CASH_OUT   36660.11  C1264349678       12488.00            0.00   \n",
       "699821    36   PAYMENT   15548.89  C1662050388           0.00            0.00   \n",
       "699822    36   CASH_IN  192770.27  C1629227889       25482.00       218252.27   \n",
       "699823    36   CASH_IN  262632.97  C1239926205      218252.27       480885.24   \n",
       "699824    36   CASH_IN  185519.05   C756125333      480885.24       666404.29   \n",
       "\n",
       "           nameDest  oldbalanceDest  newbalanceDest  isFraud  isFlaggedFraud  \\\n",
       "660051  C1020952192            0.00        36657.51        0               0   \n",
       "660052  C1607998216       353179.00       480691.16        0               0   \n",
       "660053  C1062254208      3808178.07      4149235.05        0               0   \n",
       "660054   C963801415      2370189.64      2622069.72        0               0   \n",
       "660055   C424605810      1138738.72      1101343.62        0               0   \n",
       "...             ...             ...             ...      ...             ...   \n",
       "699820   C977869926        63065.32        99725.43        0               0   \n",
       "699821   M249904392            0.00            0.00        0               0   \n",
       "699822  C1202769194      1946233.66      1753463.39        0               0   \n",
       "699823  C1344532196       663456.90       400823.93        0               0   \n",
       "699824  C1794907032       206505.50        20986.44        0               0   \n",
       "\n",
       "        hour_of_day time_of_day  \n",
       "660051           12   Afternoon  \n",
       "660052           12   Afternoon  \n",
       "660053           12   Afternoon  \n",
       "660054           12   Afternoon  \n",
       "660055           12   Afternoon  \n",
       "...             ...         ...  \n",
       "699820           12   Afternoon  \n",
       "699821           12   Afternoon  \n",
       "699822           12   Afternoon  \n",
       "699823           12   Afternoon  \n",
       "699824           12   Afternoon  \n",
       "\n",
       "[39774 rows x 13 columns]"
      ]
     },
     "execution_count": 13,
     "metadata": {},
     "output_type": "execute_result"
    }
   ],
   "source": [
    "# 36 is 12 noon\n",
    "data[data['step'] == 36]"
   ]
  },
  {
   "cell_type": "markdown",
   "id": "e75ab9b9",
   "metadata": {},
   "source": [
    "#### Plots"
   ]
  },
  {
   "cell_type": "code",
   "execution_count": 14,
   "id": "03603c70",
   "metadata": {},
   "outputs": [],
   "source": [
    "import matplotlib.pyplot as plt\n",
    "import seaborn as sb"
   ]
  },
  {
   "cell_type": "code",
   "execution_count": 15,
   "id": "d90723a9",
   "metadata": {},
   "outputs": [
    {
     "data": {
      "text/html": [
       "<div>\n",
       "<style scoped>\n",
       "    .dataframe tbody tr th:only-of-type {\n",
       "        vertical-align: middle;\n",
       "    }\n",
       "\n",
       "    .dataframe tbody tr th {\n",
       "        vertical-align: top;\n",
       "    }\n",
       "\n",
       "    .dataframe thead th {\n",
       "        text-align: right;\n",
       "    }\n",
       "</style>\n",
       "<table border=\"1\" class=\"dataframe\">\n",
       "  <thead>\n",
       "    <tr style=\"text-align: right;\">\n",
       "      <th></th>\n",
       "      <th>step</th>\n",
       "      <th>type</th>\n",
       "      <th>amount</th>\n",
       "      <th>nameOrig</th>\n",
       "      <th>oldbalanceOrg</th>\n",
       "      <th>newbalanceOrig</th>\n",
       "      <th>nameDest</th>\n",
       "      <th>oldbalanceDest</th>\n",
       "      <th>newbalanceDest</th>\n",
       "      <th>isFraud</th>\n",
       "      <th>isFlaggedFraud</th>\n",
       "      <th>hour_of_day</th>\n",
       "      <th>time_of_day</th>\n",
       "    </tr>\n",
       "  </thead>\n",
       "  <tbody>\n",
       "    <tr>\n",
       "      <th>2</th>\n",
       "      <td>1</td>\n",
       "      <td>TRANSFER</td>\n",
       "      <td>181.0</td>\n",
       "      <td>C1305486145</td>\n",
       "      <td>181.0</td>\n",
       "      <td>0.0</td>\n",
       "      <td>C553264065</td>\n",
       "      <td>0.0</td>\n",
       "      <td>0.0</td>\n",
       "      <td>1</td>\n",
       "      <td>0</td>\n",
       "      <td>1</td>\n",
       "      <td>Midnight</td>\n",
       "    </tr>\n",
       "    <tr>\n",
       "      <th>3</th>\n",
       "      <td>1</td>\n",
       "      <td>CASH_OUT</td>\n",
       "      <td>181.0</td>\n",
       "      <td>C840083671</td>\n",
       "      <td>181.0</td>\n",
       "      <td>0.0</td>\n",
       "      <td>C38997010</td>\n",
       "      <td>21182.0</td>\n",
       "      <td>0.0</td>\n",
       "      <td>1</td>\n",
       "      <td>0</td>\n",
       "      <td>1</td>\n",
       "      <td>Midnight</td>\n",
       "    </tr>\n",
       "    <tr>\n",
       "      <th>251</th>\n",
       "      <td>1</td>\n",
       "      <td>TRANSFER</td>\n",
       "      <td>2806.0</td>\n",
       "      <td>C1420196421</td>\n",
       "      <td>2806.0</td>\n",
       "      <td>0.0</td>\n",
       "      <td>C972765878</td>\n",
       "      <td>0.0</td>\n",
       "      <td>0.0</td>\n",
       "      <td>1</td>\n",
       "      <td>0</td>\n",
       "      <td>1</td>\n",
       "      <td>Midnight</td>\n",
       "    </tr>\n",
       "    <tr>\n",
       "      <th>252</th>\n",
       "      <td>1</td>\n",
       "      <td>CASH_OUT</td>\n",
       "      <td>2806.0</td>\n",
       "      <td>C2101527076</td>\n",
       "      <td>2806.0</td>\n",
       "      <td>0.0</td>\n",
       "      <td>C1007251739</td>\n",
       "      <td>26202.0</td>\n",
       "      <td>0.0</td>\n",
       "      <td>1</td>\n",
       "      <td>0</td>\n",
       "      <td>1</td>\n",
       "      <td>Midnight</td>\n",
       "    </tr>\n",
       "    <tr>\n",
       "      <th>680</th>\n",
       "      <td>1</td>\n",
       "      <td>TRANSFER</td>\n",
       "      <td>20128.0</td>\n",
       "      <td>C137533655</td>\n",
       "      <td>20128.0</td>\n",
       "      <td>0.0</td>\n",
       "      <td>C1848415041</td>\n",
       "      <td>0.0</td>\n",
       "      <td>0.0</td>\n",
       "      <td>1</td>\n",
       "      <td>0</td>\n",
       "      <td>1</td>\n",
       "      <td>Midnight</td>\n",
       "    </tr>\n",
       "  </tbody>\n",
       "</table>\n",
       "</div>"
      ],
      "text/plain": [
       "     step      type   amount     nameOrig  oldbalanceOrg  newbalanceOrig  \\\n",
       "2       1  TRANSFER    181.0  C1305486145          181.0             0.0   \n",
       "3       1  CASH_OUT    181.0   C840083671          181.0             0.0   \n",
       "251     1  TRANSFER   2806.0  C1420196421         2806.0             0.0   \n",
       "252     1  CASH_OUT   2806.0  C2101527076         2806.0             0.0   \n",
       "680     1  TRANSFER  20128.0   C137533655        20128.0             0.0   \n",
       "\n",
       "        nameDest  oldbalanceDest  newbalanceDest  isFraud  isFlaggedFraud  \\\n",
       "2     C553264065             0.0             0.0        1               0   \n",
       "3      C38997010         21182.0             0.0        1               0   \n",
       "251   C972765878             0.0             0.0        1               0   \n",
       "252  C1007251739         26202.0             0.0        1               0   \n",
       "680  C1848415041             0.0             0.0        1               0   \n",
       "\n",
       "     hour_of_day time_of_day  \n",
       "2              1    Midnight  \n",
       "3              1    Midnight  \n",
       "251            1    Midnight  \n",
       "252            1    Midnight  \n",
       "680            1    Midnight  "
      ]
     },
     "execution_count": 15,
     "metadata": {},
     "output_type": "execute_result"
    }
   ],
   "source": [
    "#collecting only data which is marked as fraud\n",
    "fraud_data = data[data['isFraud']==1]\n",
    "fraud_data.head()"
   ]
  },
  {
   "cell_type": "markdown",
   "id": "9ddcf928",
   "metadata": {},
   "source": [
    "##### Major Fraud Transactions vs Time Period ! "
   ]
  },
  {
   "cell_type": "code",
   "execution_count": 16,
   "id": "1105f110",
   "metadata": {},
   "outputs": [
    {
     "data": {
      "image/png": "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\n",
      "text/plain": [
       "<Figure size 432x288 with 1 Axes>"
      ]
     },
     "metadata": {
      "needs_background": "light"
     },
     "output_type": "display_data"
    }
   ],
   "source": [
    "sb.countplot(x = 'time_of_day', data = fraud_data, palette = 'Purples_r', saturation = 0.5)\n",
    "plt.title('Major Fraud Transactions by Time Period')\n",
    "plt.show()"
   ]
  },
  {
   "cell_type": "markdown",
   "id": "e6f10a0b",
   "metadata": {},
   "source": [
    "To get into deeper picture, checking for each hour of the day.\n",
    "##### Major Fraud Transactions vs each Hour !"
   ]
  },
  {
   "cell_type": "code",
   "execution_count": 17,
   "id": "1c767465",
   "metadata": {},
   "outputs": [
    {
     "data": {
      "image/png": "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\n",
      "text/plain": [
       "<Figure size 720x432 with 1 Axes>"
      ]
     },
     "metadata": {
      "needs_background": "light"
     },
     "output_type": "display_data"
    }
   ],
   "source": [
    "fraud_by_hour = data[data['isFraud'] == 1].groupby('hour_of_day')['isFraud'].count()\n",
    "\n",
    "plt.figure(figsize = (10, 6))\n",
    "sb.lineplot(x = fraud_by_hour.index, y = fraud_by_hour.values, marker='o', color = 'red')\n",
    "plt.xlabel('Hour of the Day')\n",
    "plt.ylabel('Number of Fraud Transactions')\n",
    "plt.title('Major Fraud Transactions by Hour')\n",
    "plt.grid(axis='x')\n",
    "plt.show()"
   ]
  },
  {
   "cell_type": "markdown",
   "id": "ff6f403d",
   "metadata": {},
   "source": [
    "We can conclude that, the major fraud transactions took place during midnights around 3am, \n",
    "and in the morning around 10am. There is a drastic fall during the early hours between 4am to 7am."
   ]
  },
  {
   "cell_type": "code",
   "execution_count": 18,
   "id": "e55f4cfa",
   "metadata": {},
   "outputs": [
    {
     "data": {
      "image/png": "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\n",
      "text/plain": [
       "<Figure size 432x288 with 1 Axes>"
      ]
     },
     "metadata": {
      "needs_background": "light"
     },
     "output_type": "display_data"
    }
   ],
   "source": [
    "sb.countplot(x = 'type', data = fraud_data, palette = 'vlag', saturation = 0.5)\n",
    "plt.title('Major Fraud Reports by its Type of Transaction')\n",
    "plt.show()"
   ]
  },
  {
   "cell_type": "markdown",
   "id": "9ca23b2d",
   "metadata": {},
   "source": [
    "The fraud transactions took place only in cashout and transfer type of transactions.\n",
    "<br>\n",
    "\n",
    "Considering the description given\n",
    "- Note that there is not information for customers that start with M (Merchants).\n",
    "\n"
   ]
  },
  {
   "cell_type": "code",
   "execution_count": 19,
   "id": "0366c920",
   "metadata": {},
   "outputs": [
    {
     "data": {
      "text/plain": [
       "(0, 13)"
      ]
     },
     "execution_count": 19,
     "metadata": {},
     "output_type": "execute_result"
    }
   ],
   "source": [
    "data[data['nameOrig'].str.startswith('M')].shape"
   ]
  },
  {
   "cell_type": "code",
   "execution_count": 20,
   "id": "6d22f86d",
   "metadata": {},
   "outputs": [
    {
     "data": {
      "text/plain": [
       "(2151495, 13)"
      ]
     },
     "execution_count": 20,
     "metadata": {},
     "output_type": "execute_result"
    }
   ],
   "source": [
    "data[data['nameDest'].str.startswith('M')].shape"
   ]
  },
  {
   "cell_type": "code",
   "execution_count": 21,
   "id": "3710bf9c",
   "metadata": {},
   "outputs": [
    {
     "data": {
      "text/plain": [
       "0"
      ]
     },
     "execution_count": 21,
     "metadata": {},
     "output_type": "execute_result"
    }
   ],
   "source": [
    "sum(data[data['nameDest'].str.startswith('M')].isFraud == 1)"
   ]
  },
  {
   "cell_type": "code",
   "execution_count": 22,
   "id": "087a866d",
   "metadata": {},
   "outputs": [],
   "source": [
    "data['nameDest'] = data['nameDest'].str[0]"
   ]
  },
  {
   "cell_type": "code",
   "execution_count": 23,
   "id": "75eefb99",
   "metadata": {},
   "outputs": [
    {
     "data": {
      "text/html": [
       "<div>\n",
       "<style scoped>\n",
       "    .dataframe tbody tr th:only-of-type {\n",
       "        vertical-align: middle;\n",
       "    }\n",
       "\n",
       "    .dataframe tbody tr th {\n",
       "        vertical-align: top;\n",
       "    }\n",
       "\n",
       "    .dataframe thead th {\n",
       "        text-align: right;\n",
       "    }\n",
       "</style>\n",
       "<table border=\"1\" class=\"dataframe\">\n",
       "  <thead>\n",
       "    <tr style=\"text-align: right;\">\n",
       "      <th></th>\n",
       "      <th>step</th>\n",
       "      <th>type</th>\n",
       "      <th>amount</th>\n",
       "      <th>nameOrig</th>\n",
       "      <th>oldbalanceOrg</th>\n",
       "      <th>newbalanceOrig</th>\n",
       "      <th>nameDest</th>\n",
       "      <th>oldbalanceDest</th>\n",
       "      <th>newbalanceDest</th>\n",
       "      <th>isFraud</th>\n",
       "      <th>isFlaggedFraud</th>\n",
       "      <th>hour_of_day</th>\n",
       "      <th>time_of_day</th>\n",
       "    </tr>\n",
       "  </thead>\n",
       "  <tbody>\n",
       "    <tr>\n",
       "      <th>0</th>\n",
       "      <td>1</td>\n",
       "      <td>PAYMENT</td>\n",
       "      <td>9839.64</td>\n",
       "      <td>C1231006815</td>\n",
       "      <td>170136.0</td>\n",
       "      <td>160296.36</td>\n",
       "      <td>M</td>\n",
       "      <td>0.0</td>\n",
       "      <td>0.0</td>\n",
       "      <td>0</td>\n",
       "      <td>0</td>\n",
       "      <td>1</td>\n",
       "      <td>Midnight</td>\n",
       "    </tr>\n",
       "    <tr>\n",
       "      <th>1</th>\n",
       "      <td>1</td>\n",
       "      <td>PAYMENT</td>\n",
       "      <td>1864.28</td>\n",
       "      <td>C1666544295</td>\n",
       "      <td>21249.0</td>\n",
       "      <td>19384.72</td>\n",
       "      <td>M</td>\n",
       "      <td>0.0</td>\n",
       "      <td>0.0</td>\n",
       "      <td>0</td>\n",
       "      <td>0</td>\n",
       "      <td>1</td>\n",
       "      <td>Midnight</td>\n",
       "    </tr>\n",
       "    <tr>\n",
       "      <th>2</th>\n",
       "      <td>1</td>\n",
       "      <td>TRANSFER</td>\n",
       "      <td>181.00</td>\n",
       "      <td>C1305486145</td>\n",
       "      <td>181.0</td>\n",
       "      <td>0.00</td>\n",
       "      <td>C</td>\n",
       "      <td>0.0</td>\n",
       "      <td>0.0</td>\n",
       "      <td>1</td>\n",
       "      <td>0</td>\n",
       "      <td>1</td>\n",
       "      <td>Midnight</td>\n",
       "    </tr>\n",
       "    <tr>\n",
       "      <th>3</th>\n",
       "      <td>1</td>\n",
       "      <td>CASH_OUT</td>\n",
       "      <td>181.00</td>\n",
       "      <td>C840083671</td>\n",
       "      <td>181.0</td>\n",
       "      <td>0.00</td>\n",
       "      <td>C</td>\n",
       "      <td>21182.0</td>\n",
       "      <td>0.0</td>\n",
       "      <td>1</td>\n",
       "      <td>0</td>\n",
       "      <td>1</td>\n",
       "      <td>Midnight</td>\n",
       "    </tr>\n",
       "    <tr>\n",
       "      <th>4</th>\n",
       "      <td>1</td>\n",
       "      <td>PAYMENT</td>\n",
       "      <td>11668.14</td>\n",
       "      <td>C2048537720</td>\n",
       "      <td>41554.0</td>\n",
       "      <td>29885.86</td>\n",
       "      <td>M</td>\n",
       "      <td>0.0</td>\n",
       "      <td>0.0</td>\n",
       "      <td>0</td>\n",
       "      <td>0</td>\n",
       "      <td>1</td>\n",
       "      <td>Midnight</td>\n",
       "    </tr>\n",
       "  </tbody>\n",
       "</table>\n",
       "</div>"
      ],
      "text/plain": [
       "   step      type    amount     nameOrig  oldbalanceOrg  newbalanceOrig  \\\n",
       "0     1   PAYMENT   9839.64  C1231006815       170136.0       160296.36   \n",
       "1     1   PAYMENT   1864.28  C1666544295        21249.0        19384.72   \n",
       "2     1  TRANSFER    181.00  C1305486145          181.0            0.00   \n",
       "3     1  CASH_OUT    181.00   C840083671          181.0            0.00   \n",
       "4     1   PAYMENT  11668.14  C2048537720        41554.0        29885.86   \n",
       "\n",
       "  nameDest  oldbalanceDest  newbalanceDest  isFraud  isFlaggedFraud  \\\n",
       "0        M             0.0             0.0        0               0   \n",
       "1        M             0.0             0.0        0               0   \n",
       "2        C             0.0             0.0        1               0   \n",
       "3        C         21182.0             0.0        1               0   \n",
       "4        M             0.0             0.0        0               0   \n",
       "\n",
       "   hour_of_day time_of_day  \n",
       "0            1    Midnight  \n",
       "1            1    Midnight  \n",
       "2            1    Midnight  \n",
       "3            1    Midnight  \n",
       "4            1    Midnight  "
      ]
     },
     "execution_count": 23,
     "metadata": {},
     "output_type": "execute_result"
    }
   ],
   "source": [
    "data.head()"
   ]
  },
  {
   "cell_type": "markdown",
   "id": "f866724a",
   "metadata": {},
   "source": [
    "As there are merchant transactions only in the nameDest, we consider only that column, but to avoid high cardinality, considering only the starting letter of that column.<br>\n",
    "where,\n",
    "- \"M\" refers to Merchant transactions (transactions related to businesses).\n",
    "- \"C\" refers to Customer transactions (transactions related to individual customers)."
   ]
  },
  {
   "cell_type": "code",
   "execution_count": 24,
   "id": "359e43e2",
   "metadata": {},
   "outputs": [
    {
     "data": {
      "text/plain": [
       "array(['M', 'C'], dtype=object)"
      ]
     },
     "execution_count": 24,
     "metadata": {},
     "output_type": "execute_result"
    }
   ],
   "source": [
    "data['nameDest'].unique()"
   ]
  },
  {
   "cell_type": "markdown",
   "id": "fefb0a22",
   "metadata": {},
   "source": [
    "\n",
    "##### Checking for multicollinearity!"
   ]
  },
  {
   "cell_type": "code",
   "execution_count": 25,
   "id": "3c6b08ea",
   "metadata": {},
   "outputs": [
    {
     "data": {
      "text/plain": [
       "<AxesSubplot:>"
      ]
     },
     "execution_count": 25,
     "metadata": {},
     "output_type": "execute_result"
    },
    {
     "data": {
      "image/png": "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\n",
      "text/plain": [
       "<Figure size 864x720 with 2 Axes>"
      ]
     },
     "metadata": {},
     "output_type": "display_data"
    }
   ],
   "source": [
    "sb.set(rc = {'figure.figsize':(12,10)})\n",
    "sb.heatmap(data.corr(), cmap=\"Blues\", annot=True)"
   ]
  },
  {
   "cell_type": "code",
   "execution_count": 26,
   "id": "5edf43bf",
   "metadata": {},
   "outputs": [
    {
     "name": "stdout",
     "output_type": "stream",
     "text": [
      "          Feature         VIF\n",
      "0           const   16.088781\n",
      "1            step    1.007173\n",
      "2          amount    3.772702\n",
      "3   oldbalanceOrg  502.987865\n",
      "4  newbalanceOrig  504.357329\n",
      "5  oldbalanceDest   66.101080\n",
      "6  newbalanceDest   76.200777\n",
      "7         isFraud    1.188155\n",
      "8  isFlaggedFraud    1.002564\n",
      "9     hour_of_day    1.005961\n"
     ]
    }
   ],
   "source": [
    "import statsmodels.api as sm\n",
    "from statsmodels.stats.outliers_influence import variance_inflation_factor\n",
    "\n",
    "# Numeric columns\n",
    "num = data.select_dtypes(include = ['int64','float64']).columns\n",
    "# Add a constant term to the independent variables for the VIF calculation\n",
    "independent_variables_with_const = sm.add_constant(data[num])\n",
    "\n",
    "# Calculate VIF for each independent variable\n",
    "vif = pd.DataFrame()\n",
    "vif['Feature'] = independent_variables_with_const.columns\n",
    "vif['VIF'] = [variance_inflation_factor(independent_variables_with_const.values, i)\n",
    "              for i in range(independent_variables_with_const.shape[1])]\n",
    "\n",
    "# Display the VIF DataFrame\n",
    "print(vif)"
   ]
  },
  {
   "cell_type": "code",
   "execution_count": 27,
   "id": "b1befa2b",
   "metadata": {},
   "outputs": [],
   "source": [
    "data['balance_difference'] = data['newbalanceDest'] - data['oldbalanceDest']\n",
    "data['balance_difference'] = data['balance_difference'].abs()"
   ]
  },
  {
   "cell_type": "code",
   "execution_count": 28,
   "id": "db75334b",
   "metadata": {},
   "outputs": [],
   "source": [
    "data['orgbalance_difference'] = data['oldbalanceOrg'] - data['newbalanceOrig']\n",
    "data['orgbalance_difference'] = data['orgbalance_difference'].abs()"
   ]
  },
  {
   "cell_type": "markdown",
   "id": "c7e83dac",
   "metadata": {},
   "source": [
    "Four columns are highly correlated here,<br>\n",
    "- oldbalanceOrg with newbalanceOrig  \n",
    "- oldbalanceDest with newbalanceDest\n",
    "\n",
    "Here, in some fraud cases, there is no change in new and old balance as per the amount transfered to that account.<br>\n",
    "So, a new feature 'difference' is created.<br>\n",
    "But there is no point in having the difference between original account, as it is equal to amount column.<br>\n",
    "So, any one of the columns can be used, to avoid multicollinearity and to justify the importance of it.<br>"
   ]
  },
  {
   "cell_type": "markdown",
   "id": "4feaa917",
   "metadata": {},
   "source": [
    "#### Dropping the unwanted columns"
   ]
  },
  {
   "cell_type": "code",
   "execution_count": 29,
   "id": "7e0bf18b",
   "metadata": {},
   "outputs": [
    {
     "data": {
      "text/html": [
       "<div>\n",
       "<style scoped>\n",
       "    .dataframe tbody tr th:only-of-type {\n",
       "        vertical-align: middle;\n",
       "    }\n",
       "\n",
       "    .dataframe tbody tr th {\n",
       "        vertical-align: top;\n",
       "    }\n",
       "\n",
       "    .dataframe thead th {\n",
       "        text-align: right;\n",
       "    }\n",
       "</style>\n",
       "<table border=\"1\" class=\"dataframe\">\n",
       "  <thead>\n",
       "    <tr style=\"text-align: right;\">\n",
       "      <th></th>\n",
       "      <th>step</th>\n",
       "      <th>type</th>\n",
       "      <th>amount</th>\n",
       "      <th>nameOrig</th>\n",
       "      <th>oldbalanceOrg</th>\n",
       "      <th>newbalanceOrig</th>\n",
       "      <th>nameDest</th>\n",
       "      <th>oldbalanceDest</th>\n",
       "      <th>newbalanceDest</th>\n",
       "      <th>isFraud</th>\n",
       "      <th>isFlaggedFraud</th>\n",
       "      <th>hour_of_day</th>\n",
       "      <th>time_of_day</th>\n",
       "      <th>balance_difference</th>\n",
       "      <th>orgbalance_difference</th>\n",
       "    </tr>\n",
       "  </thead>\n",
       "  <tbody>\n",
       "    <tr>\n",
       "      <th>0</th>\n",
       "      <td>1</td>\n",
       "      <td>PAYMENT</td>\n",
       "      <td>9839.64</td>\n",
       "      <td>C1231006815</td>\n",
       "      <td>170136.0</td>\n",
       "      <td>160296.36</td>\n",
       "      <td>M</td>\n",
       "      <td>0.0</td>\n",
       "      <td>0.0</td>\n",
       "      <td>0</td>\n",
       "      <td>0</td>\n",
       "      <td>1</td>\n",
       "      <td>Midnight</td>\n",
       "      <td>0.0</td>\n",
       "      <td>9839.64</td>\n",
       "    </tr>\n",
       "    <tr>\n",
       "      <th>1</th>\n",
       "      <td>1</td>\n",
       "      <td>PAYMENT</td>\n",
       "      <td>1864.28</td>\n",
       "      <td>C1666544295</td>\n",
       "      <td>21249.0</td>\n",
       "      <td>19384.72</td>\n",
       "      <td>M</td>\n",
       "      <td>0.0</td>\n",
       "      <td>0.0</td>\n",
       "      <td>0</td>\n",
       "      <td>0</td>\n",
       "      <td>1</td>\n",
       "      <td>Midnight</td>\n",
       "      <td>0.0</td>\n",
       "      <td>1864.28</td>\n",
       "    </tr>\n",
       "    <tr>\n",
       "      <th>2</th>\n",
       "      <td>1</td>\n",
       "      <td>TRANSFER</td>\n",
       "      <td>181.00</td>\n",
       "      <td>C1305486145</td>\n",
       "      <td>181.0</td>\n",
       "      <td>0.00</td>\n",
       "      <td>C</td>\n",
       "      <td>0.0</td>\n",
       "      <td>0.0</td>\n",
       "      <td>1</td>\n",
       "      <td>0</td>\n",
       "      <td>1</td>\n",
       "      <td>Midnight</td>\n",
       "      <td>0.0</td>\n",
       "      <td>181.00</td>\n",
       "    </tr>\n",
       "    <tr>\n",
       "      <th>3</th>\n",
       "      <td>1</td>\n",
       "      <td>CASH_OUT</td>\n",
       "      <td>181.00</td>\n",
       "      <td>C840083671</td>\n",
       "      <td>181.0</td>\n",
       "      <td>0.00</td>\n",
       "      <td>C</td>\n",
       "      <td>21182.0</td>\n",
       "      <td>0.0</td>\n",
       "      <td>1</td>\n",
       "      <td>0</td>\n",
       "      <td>1</td>\n",
       "      <td>Midnight</td>\n",
       "      <td>21182.0</td>\n",
       "      <td>181.00</td>\n",
       "    </tr>\n",
       "    <tr>\n",
       "      <th>4</th>\n",
       "      <td>1</td>\n",
       "      <td>PAYMENT</td>\n",
       "      <td>11668.14</td>\n",
       "      <td>C2048537720</td>\n",
       "      <td>41554.0</td>\n",
       "      <td>29885.86</td>\n",
       "      <td>M</td>\n",
       "      <td>0.0</td>\n",
       "      <td>0.0</td>\n",
       "      <td>0</td>\n",
       "      <td>0</td>\n",
       "      <td>1</td>\n",
       "      <td>Midnight</td>\n",
       "      <td>0.0</td>\n",
       "      <td>11668.14</td>\n",
       "    </tr>\n",
       "  </tbody>\n",
       "</table>\n",
       "</div>"
      ],
      "text/plain": [
       "   step      type    amount     nameOrig  oldbalanceOrg  newbalanceOrig  \\\n",
       "0     1   PAYMENT   9839.64  C1231006815       170136.0       160296.36   \n",
       "1     1   PAYMENT   1864.28  C1666544295        21249.0        19384.72   \n",
       "2     1  TRANSFER    181.00  C1305486145          181.0            0.00   \n",
       "3     1  CASH_OUT    181.00   C840083671          181.0            0.00   \n",
       "4     1   PAYMENT  11668.14  C2048537720        41554.0        29885.86   \n",
       "\n",
       "  nameDest  oldbalanceDest  newbalanceDest  isFraud  isFlaggedFraud  \\\n",
       "0        M             0.0             0.0        0               0   \n",
       "1        M             0.0             0.0        0               0   \n",
       "2        C             0.0             0.0        1               0   \n",
       "3        C         21182.0             0.0        1               0   \n",
       "4        M             0.0             0.0        0               0   \n",
       "\n",
       "   hour_of_day time_of_day  balance_difference  orgbalance_difference  \n",
       "0            1    Midnight                 0.0                9839.64  \n",
       "1            1    Midnight                 0.0                1864.28  \n",
       "2            1    Midnight                 0.0                 181.00  \n",
       "3            1    Midnight             21182.0                 181.00  \n",
       "4            1    Midnight                 0.0               11668.14  "
      ]
     },
     "execution_count": 29,
     "metadata": {},
     "output_type": "execute_result"
    }
   ],
   "source": [
    "data.head()"
   ]
  },
  {
   "cell_type": "code",
   "execution_count": 30,
   "id": "97b6b081",
   "metadata": {},
   "outputs": [],
   "source": [
    "df = data.drop(['step', 'nameOrig', 'newbalanceOrig', 'oldbalanceDest', 'newbalanceDest', 'hour_of_day', 'orgbalance_difference'], axis = 1)"
   ]
  },
  {
   "cell_type": "code",
   "execution_count": 31,
   "id": "260b479d",
   "metadata": {},
   "outputs": [],
   "source": [
    "df = df[['time_of_day','type', 'amount', 'oldbalanceOrg', 'nameDest', 'balance_difference','isFraud', 'isFlaggedFraud']]"
   ]
  },
  {
   "cell_type": "code",
   "execution_count": 32,
   "id": "329f2300",
   "metadata": {},
   "outputs": [
    {
     "data": {
      "text/html": [
       "<div>\n",
       "<style scoped>\n",
       "    .dataframe tbody tr th:only-of-type {\n",
       "        vertical-align: middle;\n",
       "    }\n",
       "\n",
       "    .dataframe tbody tr th {\n",
       "        vertical-align: top;\n",
       "    }\n",
       "\n",
       "    .dataframe thead th {\n",
       "        text-align: right;\n",
       "    }\n",
       "</style>\n",
       "<table border=\"1\" class=\"dataframe\">\n",
       "  <thead>\n",
       "    <tr style=\"text-align: right;\">\n",
       "      <th></th>\n",
       "      <th>time_of_day</th>\n",
       "      <th>type</th>\n",
       "      <th>amount</th>\n",
       "      <th>oldbalanceOrg</th>\n",
       "      <th>nameDest</th>\n",
       "      <th>balance_difference</th>\n",
       "      <th>isFraud</th>\n",
       "      <th>isFlaggedFraud</th>\n",
       "    </tr>\n",
       "  </thead>\n",
       "  <tbody>\n",
       "    <tr>\n",
       "      <th>0</th>\n",
       "      <td>Midnight</td>\n",
       "      <td>PAYMENT</td>\n",
       "      <td>9839.64</td>\n",
       "      <td>170136.0</td>\n",
       "      <td>M</td>\n",
       "      <td>0.0</td>\n",
       "      <td>0</td>\n",
       "      <td>0</td>\n",
       "    </tr>\n",
       "    <tr>\n",
       "      <th>1</th>\n",
       "      <td>Midnight</td>\n",
       "      <td>PAYMENT</td>\n",
       "      <td>1864.28</td>\n",
       "      <td>21249.0</td>\n",
       "      <td>M</td>\n",
       "      <td>0.0</td>\n",
       "      <td>0</td>\n",
       "      <td>0</td>\n",
       "    </tr>\n",
       "    <tr>\n",
       "      <th>2</th>\n",
       "      <td>Midnight</td>\n",
       "      <td>TRANSFER</td>\n",
       "      <td>181.00</td>\n",
       "      <td>181.0</td>\n",
       "      <td>C</td>\n",
       "      <td>0.0</td>\n",
       "      <td>1</td>\n",
       "      <td>0</td>\n",
       "    </tr>\n",
       "    <tr>\n",
       "      <th>3</th>\n",
       "      <td>Midnight</td>\n",
       "      <td>CASH_OUT</td>\n",
       "      <td>181.00</td>\n",
       "      <td>181.0</td>\n",
       "      <td>C</td>\n",
       "      <td>21182.0</td>\n",
       "      <td>1</td>\n",
       "      <td>0</td>\n",
       "    </tr>\n",
       "    <tr>\n",
       "      <th>4</th>\n",
       "      <td>Midnight</td>\n",
       "      <td>PAYMENT</td>\n",
       "      <td>11668.14</td>\n",
       "      <td>41554.0</td>\n",
       "      <td>M</td>\n",
       "      <td>0.0</td>\n",
       "      <td>0</td>\n",
       "      <td>0</td>\n",
       "    </tr>\n",
       "  </tbody>\n",
       "</table>\n",
       "</div>"
      ],
      "text/plain": [
       "  time_of_day      type    amount  oldbalanceOrg nameDest  balance_difference  \\\n",
       "0    Midnight   PAYMENT   9839.64       170136.0        M                 0.0   \n",
       "1    Midnight   PAYMENT   1864.28        21249.0        M                 0.0   \n",
       "2    Midnight  TRANSFER    181.00          181.0        C                 0.0   \n",
       "3    Midnight  CASH_OUT    181.00          181.0        C             21182.0   \n",
       "4    Midnight   PAYMENT  11668.14        41554.0        M                 0.0   \n",
       "\n",
       "   isFraud  isFlaggedFraud  \n",
       "0        0               0  \n",
       "1        0               0  \n",
       "2        1               0  \n",
       "3        1               0  \n",
       "4        0               0  "
      ]
     },
     "execution_count": 32,
     "metadata": {},
     "output_type": "execute_result"
    }
   ],
   "source": [
    "df.head()"
   ]
  },
  {
   "cell_type": "code",
   "execution_count": 33,
   "id": "9b093b5a",
   "metadata": {},
   "outputs": [
    {
     "data": {
      "text/plain": [
       "(6362620, 8)"
      ]
     },
     "execution_count": 33,
     "metadata": {},
     "output_type": "execute_result"
    }
   ],
   "source": [
    "df.shape"
   ]
  },
  {
   "cell_type": "code",
   "execution_count": 34,
   "id": "df7d5693",
   "metadata": {},
   "outputs": [
    {
     "name": "stdout",
     "output_type": "stream",
     "text": [
      "<class 'pandas.core.frame.DataFrame'>\n",
      "RangeIndex: 6362620 entries, 0 to 6362619\n",
      "Data columns (total 8 columns):\n",
      " #   Column              Dtype   \n",
      "---  ------              -----   \n",
      " 0   time_of_day         category\n",
      " 1   type                object  \n",
      " 2   amount              float64 \n",
      " 3   oldbalanceOrg       float64 \n",
      " 4   nameDest            object  \n",
      " 5   balance_difference  float64 \n",
      " 6   isFraud             int64   \n",
      " 7   isFlaggedFraud      int64   \n",
      "dtypes: category(1), float64(3), int64(2), object(2)\n",
      "memory usage: 345.9+ MB\n"
     ]
    }
   ],
   "source": [
    "df.info()"
   ]
  },
  {
   "cell_type": "markdown",
   "id": "44fd17d5",
   "metadata": {},
   "source": [
    "#### Type Conversion"
   ]
  },
  {
   "cell_type": "code",
   "execution_count": 35,
   "id": "835dabc4",
   "metadata": {},
   "outputs": [],
   "source": [
    "for i in ['time_of_day', 'type', 'nameDest', 'isFraud', 'isFlaggedFraud']:\n",
    "    df[i] = df[i].astype('category')"
   ]
  },
  {
   "cell_type": "code",
   "execution_count": 36,
   "id": "0e81fe9f",
   "metadata": {},
   "outputs": [
    {
     "data": {
      "text/plain": [
       "time_of_day           category\n",
       "type                  category\n",
       "amount                 float64\n",
       "oldbalanceOrg          float64\n",
       "nameDest              category\n",
       "balance_difference     float64\n",
       "isFraud               category\n",
       "isFlaggedFraud        category\n",
       "dtype: object"
      ]
     },
     "execution_count": 36,
     "metadata": {},
     "output_type": "execute_result"
    }
   ],
   "source": [
    "df.dtypes"
   ]
  },
  {
   "cell_type": "markdown",
   "id": "39e89041",
   "metadata": {},
   "source": [
    "#### Data description for both numeric and categoric columns"
   ]
  },
  {
   "cell_type": "code",
   "execution_count": 37,
   "id": "0a1d72b3",
   "metadata": {},
   "outputs": [],
   "source": [
    "cat = df.select_dtypes(include = ['category']).columns\n",
    "num = df.select_dtypes(include = ['int64','float64']).columns"
   ]
  },
  {
   "cell_type": "code",
   "execution_count": 38,
   "id": "ba200d6e",
   "metadata": {},
   "outputs": [
    {
     "data": {
      "text/html": [
       "<div>\n",
       "<style scoped>\n",
       "    .dataframe tbody tr th:only-of-type {\n",
       "        vertical-align: middle;\n",
       "    }\n",
       "\n",
       "    .dataframe tbody tr th {\n",
       "        vertical-align: top;\n",
       "    }\n",
       "\n",
       "    .dataframe thead th {\n",
       "        text-align: right;\n",
       "    }\n",
       "</style>\n",
       "<table border=\"1\" class=\"dataframe\">\n",
       "  <thead>\n",
       "    <tr style=\"text-align: right;\">\n",
       "      <th></th>\n",
       "      <th>amount</th>\n",
       "      <th>oldbalanceOrg</th>\n",
       "      <th>balance_difference</th>\n",
       "    </tr>\n",
       "  </thead>\n",
       "  <tbody>\n",
       "    <tr>\n",
       "      <th>count</th>\n",
       "      <td>6362620.00</td>\n",
       "      <td>6362620.00</td>\n",
       "      <td>6.362620e+06</td>\n",
       "    </tr>\n",
       "    <tr>\n",
       "      <th>mean</th>\n",
       "      <td>179861.90</td>\n",
       "      <td>833883.10</td>\n",
       "      <td>1.858962e+05</td>\n",
       "    </tr>\n",
       "    <tr>\n",
       "      <th>std</th>\n",
       "      <td>603858.23</td>\n",
       "      <td>2888242.67</td>\n",
       "      <td>8.011003e+05</td>\n",
       "    </tr>\n",
       "    <tr>\n",
       "      <th>min</th>\n",
       "      <td>0.00</td>\n",
       "      <td>0.00</td>\n",
       "      <td>0.000000e+00</td>\n",
       "    </tr>\n",
       "    <tr>\n",
       "      <th>25%</th>\n",
       "      <td>13389.57</td>\n",
       "      <td>0.00</td>\n",
       "      <td>0.000000e+00</td>\n",
       "    </tr>\n",
       "    <tr>\n",
       "      <th>50%</th>\n",
       "      <td>74871.94</td>\n",
       "      <td>14208.00</td>\n",
       "      <td>6.270585e+04</td>\n",
       "    </tr>\n",
       "    <tr>\n",
       "      <th>75%</th>\n",
       "      <td>208721.48</td>\n",
       "      <td>107315.18</td>\n",
       "      <td>2.046755e+05</td>\n",
       "    </tr>\n",
       "    <tr>\n",
       "      <th>max</th>\n",
       "      <td>92445516.64</td>\n",
       "      <td>59585040.37</td>\n",
       "      <td>1.056878e+08</td>\n",
       "    </tr>\n",
       "  </tbody>\n",
       "</table>\n",
       "</div>"
      ],
      "text/plain": [
       "            amount  oldbalanceOrg  balance_difference\n",
       "count   6362620.00     6362620.00        6.362620e+06\n",
       "mean     179861.90      833883.10        1.858962e+05\n",
       "std      603858.23     2888242.67        8.011003e+05\n",
       "min           0.00           0.00        0.000000e+00\n",
       "25%       13389.57           0.00        0.000000e+00\n",
       "50%       74871.94       14208.00        6.270585e+04\n",
       "75%      208721.48      107315.18        2.046755e+05\n",
       "max    92445516.64    59585040.37        1.056878e+08"
      ]
     },
     "execution_count": 38,
     "metadata": {},
     "output_type": "execute_result"
    }
   ],
   "source": [
    "df[num].describe().round(2)"
   ]
  },
  {
   "cell_type": "code",
   "execution_count": 39,
   "id": "820fde07",
   "metadata": {},
   "outputs": [
    {
     "data": {
      "text/html": [
       "<div>\n",
       "<style scoped>\n",
       "    .dataframe tbody tr th:only-of-type {\n",
       "        vertical-align: middle;\n",
       "    }\n",
       "\n",
       "    .dataframe tbody tr th {\n",
       "        vertical-align: top;\n",
       "    }\n",
       "\n",
       "    .dataframe thead th {\n",
       "        text-align: right;\n",
       "    }\n",
       "</style>\n",
       "<table border=\"1\" class=\"dataframe\">\n",
       "  <thead>\n",
       "    <tr style=\"text-align: right;\">\n",
       "      <th></th>\n",
       "      <th>time_of_day</th>\n",
       "      <th>type</th>\n",
       "      <th>nameDest</th>\n",
       "      <th>isFraud</th>\n",
       "      <th>isFlaggedFraud</th>\n",
       "    </tr>\n",
       "  </thead>\n",
       "  <tbody>\n",
       "    <tr>\n",
       "      <th>count</th>\n",
       "      <td>6362620</td>\n",
       "      <td>6362620</td>\n",
       "      <td>6362620</td>\n",
       "      <td>6362620</td>\n",
       "      <td>6362620</td>\n",
       "    </tr>\n",
       "    <tr>\n",
       "      <th>unique</th>\n",
       "      <td>5</td>\n",
       "      <td>5</td>\n",
       "      <td>2</td>\n",
       "      <td>2</td>\n",
       "      <td>2</td>\n",
       "    </tr>\n",
       "    <tr>\n",
       "      <th>top</th>\n",
       "      <td>Evening</td>\n",
       "      <td>CASH_OUT</td>\n",
       "      <td>C</td>\n",
       "      <td>0</td>\n",
       "      <td>0</td>\n",
       "    </tr>\n",
       "    <tr>\n",
       "      <th>freq</th>\n",
       "      <td>2109876</td>\n",
       "      <td>2237500</td>\n",
       "      <td>4211125</td>\n",
       "      <td>6354407</td>\n",
       "      <td>6362604</td>\n",
       "    </tr>\n",
       "  </tbody>\n",
       "</table>\n",
       "</div>"
      ],
      "text/plain": [
       "       time_of_day      type nameDest  isFraud  isFlaggedFraud\n",
       "count      6362620   6362620  6362620  6362620         6362620\n",
       "unique           5         5        2        2               2\n",
       "top        Evening  CASH_OUT        C        0               0\n",
       "freq       2109876   2237500  4211125  6354407         6362604"
      ]
     },
     "execution_count": 39,
     "metadata": {},
     "output_type": "execute_result"
    }
   ],
   "source": [
    "df[cat].describe()"
   ]
  },
  {
   "cell_type": "code",
   "execution_count": 40,
   "id": "85d096c0",
   "metadata": {},
   "outputs": [
    {
     "data": {
      "text/html": [
       "<div>\n",
       "<style scoped>\n",
       "    .dataframe tbody tr th:only-of-type {\n",
       "        vertical-align: middle;\n",
       "    }\n",
       "\n",
       "    .dataframe tbody tr th {\n",
       "        vertical-align: top;\n",
       "    }\n",
       "\n",
       "    .dataframe thead th {\n",
       "        text-align: right;\n",
       "    }\n",
       "</style>\n",
       "<table border=\"1\" class=\"dataframe\">\n",
       "  <thead>\n",
       "    <tr style=\"text-align: right;\">\n",
       "      <th></th>\n",
       "      <th>time_of_day</th>\n",
       "      <th>type</th>\n",
       "      <th>amount</th>\n",
       "      <th>oldbalanceOrg</th>\n",
       "      <th>nameDest</th>\n",
       "      <th>balance_difference</th>\n",
       "      <th>isFraud</th>\n",
       "      <th>isFlaggedFraud</th>\n",
       "    </tr>\n",
       "  </thead>\n",
       "  <tbody>\n",
       "    <tr>\n",
       "      <th>0</th>\n",
       "      <td>Midnight</td>\n",
       "      <td>PAYMENT</td>\n",
       "      <td>9839.64</td>\n",
       "      <td>170136.0</td>\n",
       "      <td>M</td>\n",
       "      <td>0.0</td>\n",
       "      <td>0</td>\n",
       "      <td>0</td>\n",
       "    </tr>\n",
       "    <tr>\n",
       "      <th>1</th>\n",
       "      <td>Midnight</td>\n",
       "      <td>PAYMENT</td>\n",
       "      <td>1864.28</td>\n",
       "      <td>21249.0</td>\n",
       "      <td>M</td>\n",
       "      <td>0.0</td>\n",
       "      <td>0</td>\n",
       "      <td>0</td>\n",
       "    </tr>\n",
       "    <tr>\n",
       "      <th>2</th>\n",
       "      <td>Midnight</td>\n",
       "      <td>TRANSFER</td>\n",
       "      <td>181.00</td>\n",
       "      <td>181.0</td>\n",
       "      <td>C</td>\n",
       "      <td>0.0</td>\n",
       "      <td>1</td>\n",
       "      <td>0</td>\n",
       "    </tr>\n",
       "    <tr>\n",
       "      <th>3</th>\n",
       "      <td>Midnight</td>\n",
       "      <td>CASH_OUT</td>\n",
       "      <td>181.00</td>\n",
       "      <td>181.0</td>\n",
       "      <td>C</td>\n",
       "      <td>21182.0</td>\n",
       "      <td>1</td>\n",
       "      <td>0</td>\n",
       "    </tr>\n",
       "    <tr>\n",
       "      <th>4</th>\n",
       "      <td>Midnight</td>\n",
       "      <td>PAYMENT</td>\n",
       "      <td>11668.14</td>\n",
       "      <td>41554.0</td>\n",
       "      <td>M</td>\n",
       "      <td>0.0</td>\n",
       "      <td>0</td>\n",
       "      <td>0</td>\n",
       "    </tr>\n",
       "  </tbody>\n",
       "</table>\n",
       "</div>"
      ],
      "text/plain": [
       "  time_of_day      type    amount  oldbalanceOrg nameDest  balance_difference  \\\n",
       "0    Midnight   PAYMENT   9839.64       170136.0        M                 0.0   \n",
       "1    Midnight   PAYMENT   1864.28        21249.0        M                 0.0   \n",
       "2    Midnight  TRANSFER    181.00          181.0        C                 0.0   \n",
       "3    Midnight  CASH_OUT    181.00          181.0        C             21182.0   \n",
       "4    Midnight   PAYMENT  11668.14        41554.0        M                 0.0   \n",
       "\n",
       "  isFraud isFlaggedFraud  \n",
       "0       0              0  \n",
       "1       0              0  \n",
       "2       1              0  \n",
       "3       1              0  \n",
       "4       0              0  "
      ]
     },
     "execution_count": 40,
     "metadata": {},
     "output_type": "execute_result"
    }
   ],
   "source": [
    "df.head()"
   ]
  },
  {
   "cell_type": "code",
   "execution_count": 41,
   "id": "e5300317",
   "metadata": {},
   "outputs": [
    {
     "data": {
      "text/plain": [
       "<AxesSubplot:>"
      ]
     },
     "execution_count": 41,
     "metadata": {},
     "output_type": "execute_result"
    },
    {
     "data": {
      "image/png": "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\n",
      "text/plain": [
       "<Figure size 576x360 with 2 Axes>"
      ]
     },
     "metadata": {},
     "output_type": "display_data"
    }
   ],
   "source": [
    "sb.set(rc = {'figure.figsize':(8,5)})\n",
    "sb.heatmap(df.corr(), cmap=\"cubehelix\", annot=True)"
   ]
  },
  {
   "cell_type": "markdown",
   "id": "fea06fb2",
   "metadata": {},
   "source": [
    "### Splitting Dataset to train and validation "
   ]
  },
  {
   "cell_type": "code",
   "execution_count": 42,
   "id": "8efdcf92",
   "metadata": {},
   "outputs": [],
   "source": [
    "from sklearn.model_selection import train_test_split"
   ]
  },
  {
   "cell_type": "code",
   "execution_count": 43,
   "id": "00aa8c60",
   "metadata": {},
   "outputs": [],
   "source": [
    "x = df.drop(['isFraud'], axis=1)\n",
    "y = df['isFraud']\n",
    "\n",
    "x_train, x_valid, y_train, y_valid = train_test_split(x, y, test_size=0.30, random_state=123, stratify=y) "
   ]
  },
  {
   "cell_type": "code",
   "execution_count": 44,
   "id": "522a70fe",
   "metadata": {},
   "outputs": [
    {
     "name": "stdout",
     "output_type": "stream",
     "text": [
      "(4453834, 7)\n",
      "(1908786, 7)\n",
      "(4453834,)\n",
      "(1908786,)\n"
     ]
    }
   ],
   "source": [
    "print(x_train.shape)\n",
    "print(x_valid.shape)\n",
    "print(y_train.shape)\n",
    "print(y_valid.shape)"
   ]
  },
  {
   "cell_type": "code",
   "execution_count": 45,
   "id": "501aba62",
   "metadata": {},
   "outputs": [
    {
     "data": {
      "text/plain": [
       "0    99.87092\n",
       "1     0.12908\n",
       "Name: isFraud, dtype: float64"
      ]
     },
     "execution_count": 45,
     "metadata": {},
     "output_type": "execute_result"
    }
   ],
   "source": [
    "y_train.value_counts(normalize = True)*100"
   ]
  },
  {
   "cell_type": "markdown",
   "id": "61d15c81",
   "metadata": {},
   "source": [
    "Handling class imbalance is crucial in machine learning, especially when dealing with rare events like fraudulent transactions. <br>When the majority class (non-fraudulent transactions, labeled as 0) significantly outweighs the minority class (fraudulent transactions, labeled as 1), the model may become biased towards the majority class and perform poorly in detecting the minority class."
   ]
  },
  {
   "cell_type": "markdown",
   "id": "b6cc4533",
   "metadata": {},
   "source": [
    "#### Standardizing the Data\n",
    "\n",
    "- Numeric Data - StandardScaler\n",
    "- Categoric Data - OneHotEncoder"
   ]
  },
  {
   "cell_type": "code",
   "execution_count": 46,
   "id": "8a32fa4f",
   "metadata": {},
   "outputs": [],
   "source": [
    "from sklearn.preprocessing import StandardScaler, OneHotEncoder"
   ]
  },
  {
   "cell_type": "code",
   "execution_count": 47,
   "id": "96b63105",
   "metadata": {},
   "outputs": [],
   "source": [
    "scaler = StandardScaler()"
   ]
  },
  {
   "cell_type": "code",
   "execution_count": 48,
   "id": "a8080103",
   "metadata": {},
   "outputs": [],
   "source": [
    "numerical_list = x_train.select_dtypes(include=['int64','float64']).columns"
   ]
  },
  {
   "cell_type": "code",
   "execution_count": 49,
   "id": "c34468b2",
   "metadata": {},
   "outputs": [
    {
     "data": {
      "text/plain": [
       "StandardScaler()"
      ]
     },
     "execution_count": 49,
     "metadata": {},
     "output_type": "execute_result"
    }
   ],
   "source": [
    "scaler.fit(x_train[numerical_list])"
   ]
  },
  {
   "cell_type": "code",
   "execution_count": 50,
   "id": "daec2a92",
   "metadata": {},
   "outputs": [],
   "source": [
    "scaled_train = pd.DataFrame(scaler.transform(x_train[numerical_list]), columns = numerical_list)"
   ]
  },
  {
   "cell_type": "code",
   "execution_count": 51,
   "id": "ae08be61",
   "metadata": {},
   "outputs": [
    {
     "data": {
      "text/html": [
       "<div>\n",
       "<style scoped>\n",
       "    .dataframe tbody tr th:only-of-type {\n",
       "        vertical-align: middle;\n",
       "    }\n",
       "\n",
       "    .dataframe tbody tr th {\n",
       "        vertical-align: top;\n",
       "    }\n",
       "\n",
       "    .dataframe thead th {\n",
       "        text-align: right;\n",
       "    }\n",
       "</style>\n",
       "<table border=\"1\" class=\"dataframe\">\n",
       "  <thead>\n",
       "    <tr style=\"text-align: right;\">\n",
       "      <th></th>\n",
       "      <th>amount</th>\n",
       "      <th>oldbalanceOrg</th>\n",
       "      <th>balance_difference</th>\n",
       "    </tr>\n",
       "  </thead>\n",
       "  <tbody>\n",
       "    <tr>\n",
       "      <th>0</th>\n",
       "      <td>0.180900</td>\n",
       "      <td>0.280806</td>\n",
       "      <td>0.128371</td>\n",
       "    </tr>\n",
       "    <tr>\n",
       "      <th>1</th>\n",
       "      <td>0.282869</td>\n",
       "      <td>-0.215301</td>\n",
       "      <td>-0.118043</td>\n",
       "    </tr>\n",
       "    <tr>\n",
       "      <th>2</th>\n",
       "      <td>-0.248299</td>\n",
       "      <td>-0.288758</td>\n",
       "      <td>-0.194384</td>\n",
       "    </tr>\n",
       "    <tr>\n",
       "      <th>3</th>\n",
       "      <td>-0.133133</td>\n",
       "      <td>-0.285457</td>\n",
       "      <td>-0.107779</td>\n",
       "    </tr>\n",
       "    <tr>\n",
       "      <th>4</th>\n",
       "      <td>-0.057355</td>\n",
       "      <td>-0.264636</td>\n",
       "      <td>-0.050795</td>\n",
       "    </tr>\n",
       "  </tbody>\n",
       "</table>\n",
       "</div>"
      ],
      "text/plain": [
       "     amount  oldbalanceOrg  balance_difference\n",
       "0  0.180900       0.280806            0.128371\n",
       "1  0.282869      -0.215301           -0.118043\n",
       "2 -0.248299      -0.288758           -0.194384\n",
       "3 -0.133133      -0.285457           -0.107779\n",
       "4 -0.057355      -0.264636           -0.050795"
      ]
     },
     "execution_count": 51,
     "metadata": {},
     "output_type": "execute_result"
    }
   ],
   "source": [
    "scaled_train.head()"
   ]
  },
  {
   "cell_type": "code",
   "execution_count": 52,
   "id": "f0e2ccf8",
   "metadata": {},
   "outputs": [],
   "source": [
    "scaled_valid = pd.DataFrame(scaler.transform(x_valid[numerical_list]), columns = numerical_list)"
   ]
  },
  {
   "cell_type": "code",
   "execution_count": 53,
   "id": "603883f4",
   "metadata": {},
   "outputs": [],
   "source": [
    "categorical_list = x_train.select_dtypes(include=['category']).columns"
   ]
  },
  {
   "cell_type": "code",
   "execution_count": 54,
   "id": "2eee03ac",
   "metadata": {},
   "outputs": [],
   "source": [
    "ohe = OneHotEncoder(handle_unknown='ignore')"
   ]
  },
  {
   "cell_type": "code",
   "execution_count": 55,
   "id": "dec7bc9f",
   "metadata": {},
   "outputs": [
    {
     "data": {
      "text/plain": [
       "OneHotEncoder(handle_unknown='ignore')"
      ]
     },
     "execution_count": 55,
     "metadata": {},
     "output_type": "execute_result"
    }
   ],
   "source": [
    "ohe.fit(x_train[categorical_list])"
   ]
  },
  {
   "cell_type": "code",
   "execution_count": 56,
   "id": "4b0db2e5",
   "metadata": {},
   "outputs": [],
   "source": [
    "x_train_ohe = pd.DataFrame(ohe.transform(x_train[categorical_list]).toarray() , columns = ohe.get_feature_names_out())\n",
    "x_valid_ohe = pd.DataFrame(ohe.transform(x_valid[categorical_list]).toarray() , columns = ohe.get_feature_names_out())"
   ]
  },
  {
   "cell_type": "code",
   "execution_count": 57,
   "id": "8da0cf95",
   "metadata": {
    "scrolled": true
   },
   "outputs": [
    {
     "data": {
      "text/html": [
       "<div>\n",
       "<style scoped>\n",
       "    .dataframe tbody tr th:only-of-type {\n",
       "        vertical-align: middle;\n",
       "    }\n",
       "\n",
       "    .dataframe tbody tr th {\n",
       "        vertical-align: top;\n",
       "    }\n",
       "\n",
       "    .dataframe thead th {\n",
       "        text-align: right;\n",
       "    }\n",
       "</style>\n",
       "<table border=\"1\" class=\"dataframe\">\n",
       "  <thead>\n",
       "    <tr style=\"text-align: right;\">\n",
       "      <th></th>\n",
       "      <th>time_of_day_Afternoon</th>\n",
       "      <th>time_of_day_Evening</th>\n",
       "      <th>time_of_day_Midnight</th>\n",
       "      <th>time_of_day_Morning</th>\n",
       "      <th>time_of_day_Night</th>\n",
       "      <th>type_CASH_IN</th>\n",
       "      <th>type_CASH_OUT</th>\n",
       "      <th>type_DEBIT</th>\n",
       "      <th>type_PAYMENT</th>\n",
       "      <th>type_TRANSFER</th>\n",
       "      <th>nameDest_C</th>\n",
       "      <th>nameDest_M</th>\n",
       "      <th>isFlaggedFraud_0</th>\n",
       "      <th>isFlaggedFraud_1</th>\n",
       "    </tr>\n",
       "  </thead>\n",
       "  <tbody>\n",
       "    <tr>\n",
       "      <th>0</th>\n",
       "      <td>0.0</td>\n",
       "      <td>1.0</td>\n",
       "      <td>0.0</td>\n",
       "      <td>0.0</td>\n",
       "      <td>0.0</td>\n",
       "      <td>1.0</td>\n",
       "      <td>0.0</td>\n",
       "      <td>0.0</td>\n",
       "      <td>0.0</td>\n",
       "      <td>0.0</td>\n",
       "      <td>1.0</td>\n",
       "      <td>0.0</td>\n",
       "      <td>1.0</td>\n",
       "      <td>0.0</td>\n",
       "    </tr>\n",
       "    <tr>\n",
       "      <th>1</th>\n",
       "      <td>0.0</td>\n",
       "      <td>1.0</td>\n",
       "      <td>0.0</td>\n",
       "      <td>0.0</td>\n",
       "      <td>0.0</td>\n",
       "      <td>1.0</td>\n",
       "      <td>0.0</td>\n",
       "      <td>0.0</td>\n",
       "      <td>0.0</td>\n",
       "      <td>0.0</td>\n",
       "      <td>1.0</td>\n",
       "      <td>0.0</td>\n",
       "      <td>1.0</td>\n",
       "      <td>0.0</td>\n",
       "    </tr>\n",
       "    <tr>\n",
       "      <th>2</th>\n",
       "      <td>0.0</td>\n",
       "      <td>1.0</td>\n",
       "      <td>0.0</td>\n",
       "      <td>0.0</td>\n",
       "      <td>0.0</td>\n",
       "      <td>1.0</td>\n",
       "      <td>0.0</td>\n",
       "      <td>0.0</td>\n",
       "      <td>0.0</td>\n",
       "      <td>0.0</td>\n",
       "      <td>1.0</td>\n",
       "      <td>0.0</td>\n",
       "      <td>1.0</td>\n",
       "      <td>0.0</td>\n",
       "    </tr>\n",
       "    <tr>\n",
       "      <th>3</th>\n",
       "      <td>0.0</td>\n",
       "      <td>0.0</td>\n",
       "      <td>0.0</td>\n",
       "      <td>0.0</td>\n",
       "      <td>1.0</td>\n",
       "      <td>0.0</td>\n",
       "      <td>1.0</td>\n",
       "      <td>0.0</td>\n",
       "      <td>0.0</td>\n",
       "      <td>0.0</td>\n",
       "      <td>1.0</td>\n",
       "      <td>0.0</td>\n",
       "      <td>1.0</td>\n",
       "      <td>0.0</td>\n",
       "    </tr>\n",
       "    <tr>\n",
       "      <th>4</th>\n",
       "      <td>1.0</td>\n",
       "      <td>0.0</td>\n",
       "      <td>0.0</td>\n",
       "      <td>0.0</td>\n",
       "      <td>0.0</td>\n",
       "      <td>0.0</td>\n",
       "      <td>1.0</td>\n",
       "      <td>0.0</td>\n",
       "      <td>0.0</td>\n",
       "      <td>0.0</td>\n",
       "      <td>1.0</td>\n",
       "      <td>0.0</td>\n",
       "      <td>1.0</td>\n",
       "      <td>0.0</td>\n",
       "    </tr>\n",
       "  </tbody>\n",
       "</table>\n",
       "</div>"
      ],
      "text/plain": [
       "   time_of_day_Afternoon  time_of_day_Evening  time_of_day_Midnight  \\\n",
       "0                    0.0                  1.0                   0.0   \n",
       "1                    0.0                  1.0                   0.0   \n",
       "2                    0.0                  1.0                   0.0   \n",
       "3                    0.0                  0.0                   0.0   \n",
       "4                    1.0                  0.0                   0.0   \n",
       "\n",
       "   time_of_day_Morning  time_of_day_Night  type_CASH_IN  type_CASH_OUT  \\\n",
       "0                  0.0                0.0           1.0            0.0   \n",
       "1                  0.0                0.0           1.0            0.0   \n",
       "2                  0.0                0.0           1.0            0.0   \n",
       "3                  0.0                1.0           0.0            1.0   \n",
       "4                  0.0                0.0           0.0            1.0   \n",
       "\n",
       "   type_DEBIT  type_PAYMENT  type_TRANSFER  nameDest_C  nameDest_M  \\\n",
       "0         0.0           0.0            0.0         1.0         0.0   \n",
       "1         0.0           0.0            0.0         1.0         0.0   \n",
       "2         0.0           0.0            0.0         1.0         0.0   \n",
       "3         0.0           0.0            0.0         1.0         0.0   \n",
       "4         0.0           0.0            0.0         1.0         0.0   \n",
       "\n",
       "   isFlaggedFraud_0  isFlaggedFraud_1  \n",
       "0               1.0               0.0  \n",
       "1               1.0               0.0  \n",
       "2               1.0               0.0  \n",
       "3               1.0               0.0  \n",
       "4               1.0               0.0  "
      ]
     },
     "execution_count": 57,
     "metadata": {},
     "output_type": "execute_result"
    }
   ],
   "source": [
    "x_train_ohe.head()"
   ]
  },
  {
   "cell_type": "code",
   "execution_count": 58,
   "id": "5db7d6c0",
   "metadata": {},
   "outputs": [
    {
     "data": {
      "text/plain": [
       "(4453834, 14)"
      ]
     },
     "execution_count": 58,
     "metadata": {},
     "output_type": "execute_result"
    }
   ],
   "source": [
    "x_train_ohe.shape"
   ]
  },
  {
   "cell_type": "code",
   "execution_count": 59,
   "id": "e678c838",
   "metadata": {},
   "outputs": [],
   "source": [
    "x_train = pd.concat([scaled_train, x_train_ohe], axis = 1)"
   ]
  },
  {
   "cell_type": "code",
   "execution_count": 60,
   "id": "6b63ba5c",
   "metadata": {},
   "outputs": [],
   "source": [
    "x_valid = pd.concat([scaled_valid, x_valid_ohe], axis = 1)"
   ]
  },
  {
   "cell_type": "code",
   "execution_count": 61,
   "id": "c537da0d",
   "metadata": {},
   "outputs": [
    {
     "data": {
      "text/plain": [
       "(4453834, 17)"
      ]
     },
     "execution_count": 61,
     "metadata": {},
     "output_type": "execute_result"
    }
   ],
   "source": [
    "x_train.shape"
   ]
  },
  {
   "cell_type": "code",
   "execution_count": 62,
   "id": "bd8fcecf",
   "metadata": {},
   "outputs": [
    {
     "data": {
      "text/plain": [
       "(1908786, 17)"
      ]
     },
     "execution_count": 62,
     "metadata": {},
     "output_type": "execute_result"
    }
   ],
   "source": [
    "x_valid.shape"
   ]
  },
  {
   "cell_type": "code",
   "execution_count": 63,
   "id": "84c88ad2",
   "metadata": {},
   "outputs": [
    {
     "data": {
      "text/html": [
       "<div>\n",
       "<style scoped>\n",
       "    .dataframe tbody tr th:only-of-type {\n",
       "        vertical-align: middle;\n",
       "    }\n",
       "\n",
       "    .dataframe tbody tr th {\n",
       "        vertical-align: top;\n",
       "    }\n",
       "\n",
       "    .dataframe thead th {\n",
       "        text-align: right;\n",
       "    }\n",
       "</style>\n",
       "<table border=\"1\" class=\"dataframe\">\n",
       "  <thead>\n",
       "    <tr style=\"text-align: right;\">\n",
       "      <th></th>\n",
       "      <th>amount</th>\n",
       "      <th>oldbalanceOrg</th>\n",
       "      <th>balance_difference</th>\n",
       "      <th>time_of_day_Afternoon</th>\n",
       "      <th>time_of_day_Evening</th>\n",
       "      <th>time_of_day_Midnight</th>\n",
       "      <th>time_of_day_Morning</th>\n",
       "      <th>time_of_day_Night</th>\n",
       "      <th>type_CASH_IN</th>\n",
       "      <th>type_CASH_OUT</th>\n",
       "      <th>type_DEBIT</th>\n",
       "      <th>type_PAYMENT</th>\n",
       "      <th>type_TRANSFER</th>\n",
       "      <th>nameDest_C</th>\n",
       "      <th>nameDest_M</th>\n",
       "      <th>isFlaggedFraud_0</th>\n",
       "      <th>isFlaggedFraud_1</th>\n",
       "    </tr>\n",
       "  </thead>\n",
       "  <tbody>\n",
       "    <tr>\n",
       "      <th>0</th>\n",
       "      <td>0.180900</td>\n",
       "      <td>0.280806</td>\n",
       "      <td>0.128371</td>\n",
       "      <td>0.0</td>\n",
       "      <td>1.0</td>\n",
       "      <td>0.0</td>\n",
       "      <td>0.0</td>\n",
       "      <td>0.0</td>\n",
       "      <td>1.0</td>\n",
       "      <td>0.0</td>\n",
       "      <td>0.0</td>\n",
       "      <td>0.0</td>\n",
       "      <td>0.0</td>\n",
       "      <td>1.0</td>\n",
       "      <td>0.0</td>\n",
       "      <td>1.0</td>\n",
       "      <td>0.0</td>\n",
       "    </tr>\n",
       "    <tr>\n",
       "      <th>1</th>\n",
       "      <td>0.282869</td>\n",
       "      <td>-0.215301</td>\n",
       "      <td>-0.118043</td>\n",
       "      <td>0.0</td>\n",
       "      <td>1.0</td>\n",
       "      <td>0.0</td>\n",
       "      <td>0.0</td>\n",
       "      <td>0.0</td>\n",
       "      <td>1.0</td>\n",
       "      <td>0.0</td>\n",
       "      <td>0.0</td>\n",
       "      <td>0.0</td>\n",
       "      <td>0.0</td>\n",
       "      <td>1.0</td>\n",
       "      <td>0.0</td>\n",
       "      <td>1.0</td>\n",
       "      <td>0.0</td>\n",
       "    </tr>\n",
       "    <tr>\n",
       "      <th>2</th>\n",
       "      <td>-0.248299</td>\n",
       "      <td>-0.288758</td>\n",
       "      <td>-0.194384</td>\n",
       "      <td>0.0</td>\n",
       "      <td>1.0</td>\n",
       "      <td>0.0</td>\n",
       "      <td>0.0</td>\n",
       "      <td>0.0</td>\n",
       "      <td>1.0</td>\n",
       "      <td>0.0</td>\n",
       "      <td>0.0</td>\n",
       "      <td>0.0</td>\n",
       "      <td>0.0</td>\n",
       "      <td>1.0</td>\n",
       "      <td>0.0</td>\n",
       "      <td>1.0</td>\n",
       "      <td>0.0</td>\n",
       "    </tr>\n",
       "    <tr>\n",
       "      <th>3</th>\n",
       "      <td>-0.133133</td>\n",
       "      <td>-0.285457</td>\n",
       "      <td>-0.107779</td>\n",
       "      <td>0.0</td>\n",
       "      <td>0.0</td>\n",
       "      <td>0.0</td>\n",
       "      <td>0.0</td>\n",
       "      <td>1.0</td>\n",
       "      <td>0.0</td>\n",
       "      <td>1.0</td>\n",
       "      <td>0.0</td>\n",
       "      <td>0.0</td>\n",
       "      <td>0.0</td>\n",
       "      <td>1.0</td>\n",
       "      <td>0.0</td>\n",
       "      <td>1.0</td>\n",
       "      <td>0.0</td>\n",
       "    </tr>\n",
       "    <tr>\n",
       "      <th>4</th>\n",
       "      <td>-0.057355</td>\n",
       "      <td>-0.264636</td>\n",
       "      <td>-0.050795</td>\n",
       "      <td>1.0</td>\n",
       "      <td>0.0</td>\n",
       "      <td>0.0</td>\n",
       "      <td>0.0</td>\n",
       "      <td>0.0</td>\n",
       "      <td>0.0</td>\n",
       "      <td>1.0</td>\n",
       "      <td>0.0</td>\n",
       "      <td>0.0</td>\n",
       "      <td>0.0</td>\n",
       "      <td>1.0</td>\n",
       "      <td>0.0</td>\n",
       "      <td>1.0</td>\n",
       "      <td>0.0</td>\n",
       "    </tr>\n",
       "  </tbody>\n",
       "</table>\n",
       "</div>"
      ],
      "text/plain": [
       "     amount  oldbalanceOrg  balance_difference  time_of_day_Afternoon  \\\n",
       "0  0.180900       0.280806            0.128371                    0.0   \n",
       "1  0.282869      -0.215301           -0.118043                    0.0   \n",
       "2 -0.248299      -0.288758           -0.194384                    0.0   \n",
       "3 -0.133133      -0.285457           -0.107779                    0.0   \n",
       "4 -0.057355      -0.264636           -0.050795                    1.0   \n",
       "\n",
       "   time_of_day_Evening  time_of_day_Midnight  time_of_day_Morning  \\\n",
       "0                  1.0                   0.0                  0.0   \n",
       "1                  1.0                   0.0                  0.0   \n",
       "2                  1.0                   0.0                  0.0   \n",
       "3                  0.0                   0.0                  0.0   \n",
       "4                  0.0                   0.0                  0.0   \n",
       "\n",
       "   time_of_day_Night  type_CASH_IN  type_CASH_OUT  type_DEBIT  type_PAYMENT  \\\n",
       "0                0.0           1.0            0.0         0.0           0.0   \n",
       "1                0.0           1.0            0.0         0.0           0.0   \n",
       "2                0.0           1.0            0.0         0.0           0.0   \n",
       "3                1.0           0.0            1.0         0.0           0.0   \n",
       "4                0.0           0.0            1.0         0.0           0.0   \n",
       "\n",
       "   type_TRANSFER  nameDest_C  nameDest_M  isFlaggedFraud_0  isFlaggedFraud_1  \n",
       "0            0.0         1.0         0.0               1.0               0.0  \n",
       "1            0.0         1.0         0.0               1.0               0.0  \n",
       "2            0.0         1.0         0.0               1.0               0.0  \n",
       "3            0.0         1.0         0.0               1.0               0.0  \n",
       "4            0.0         1.0         0.0               1.0               0.0  "
      ]
     },
     "execution_count": 63,
     "metadata": {},
     "output_type": "execute_result"
    }
   ],
   "source": [
    "x_train.head()"
   ]
  },
  {
   "cell_type": "markdown",
   "id": "2efe05c9",
   "metadata": {},
   "source": [
    "***"
   ]
  },
  {
   "cell_type": "markdown",
   "id": "409ad04b",
   "metadata": {},
   "source": [
    "### Model Building"
   ]
  },
  {
   "cell_type": "code",
   "execution_count": 64,
   "id": "5ff929e4",
   "metadata": {},
   "outputs": [],
   "source": [
    "scores = pd.DataFrame(columns=['Model', 'Train_Accuracy',\n",
    "                               'Valid_Accuracy'])\n",
    "\n",
    "def get_metrics(train_actual, train_predicted, valid_actual, valid_predicted, model_description, dataframe):\n",
    "\n",
    "    train_accuracy  = accuracy_score(train_actual, train_predicted)\n",
    "    valid_accuracy   = accuracy_score(valid_actual, valid_predicted)\n",
    "   \n",
    "    dataframe       = dataframe.append(pd.Series([model_description, \n",
    "                                                  train_accuracy,valid_accuracy],\n",
    "                                                 index=scores.columns ), \n",
    "                                       ignore_index=True)\n",
    "\n",
    "    return(dataframe)"
   ]
  },
  {
   "cell_type": "code",
   "execution_count": 65,
   "id": "35235d78",
   "metadata": {},
   "outputs": [],
   "source": [
    "from sklearn.metrics import confusion_matrix, accuracy_score, recall_score, precision_score, f1_score, roc_auc_score"
   ]
  },
  {
   "cell_type": "code",
   "execution_count": 66,
   "id": "a80a5e0f",
   "metadata": {},
   "outputs": [],
   "source": [
    "def evaluate_model(act, pred):\n",
    "    print(\"Confusion Matrix \\n\", confusion_matrix(act, pred))\n",
    "    print(\"Accurcay : \", accuracy_score(act, pred))\n",
    "    print(\"Recall   : \", recall_score(act, pred))\n",
    "    print(\"Precision: \", precision_score(act, pred))  \n",
    "    print(\"F1 Score:\", f1_score(act, pred))\n",
    "    print(\"ROC AUC Score:\", roc_auc_score(act, pred))"
   ]
  },
  {
   "cell_type": "markdown",
   "id": "89462016",
   "metadata": {},
   "source": [
    "#### Logistic Regression\n",
    "\n",
    "#### Model 1"
   ]
  },
  {
   "cell_type": "code",
   "execution_count": 67,
   "id": "a3644139",
   "metadata": {},
   "outputs": [],
   "source": [
    "from sklearn.linear_model import LogisticRegression"
   ]
  },
  {
   "cell_type": "code",
   "execution_count": 68,
   "id": "02b68898",
   "metadata": {},
   "outputs": [],
   "source": [
    "LR1 = LogisticRegression(class_weight = 'balanced', random_state = 42)"
   ]
  },
  {
   "cell_type": "code",
   "execution_count": 69,
   "id": "e17bbe85",
   "metadata": {},
   "outputs": [
    {
     "data": {
      "text/plain": [
       "LogisticRegression(class_weight='balanced', random_state=42)"
      ]
     },
     "execution_count": 69,
     "metadata": {},
     "output_type": "execute_result"
    }
   ],
   "source": [
    "LR1.fit(x_train,y_train)"
   ]
  },
  {
   "cell_type": "code",
   "execution_count": 70,
   "id": "432dc5c1",
   "metadata": {},
   "outputs": [],
   "source": [
    "pred_train1 = LR1.predict(x_train)\n",
    "pred_valid1 = LR1.predict(x_valid)"
   ]
  },
  {
   "cell_type": "code",
   "execution_count": 71,
   "id": "e7159a1f",
   "metadata": {
    "scrolled": true
   },
   "outputs": [
    {
     "name": "stdout",
     "output_type": "stream",
     "text": [
      "--Train--\n",
      "Confusion Matrix \n",
      " [[4171389  276696]\n",
      " [    416    5333]]\n",
      "Accurcay :  0.9377812464496881\n",
      "Recall   :  0.927639589493825\n",
      "Precision:  0.018909402933740858\n",
      "F1 Score: 0.03706329184301788\n",
      "ROC AUC Score: 0.9327169718467205\n",
      "--Valid--\n",
      "Confusion Matrix \n",
      " [[1787439  118883]\n",
      " [    180    2284]]\n",
      "Accurcay :  0.9376237042811504\n",
      "Recall   :  0.926948051948052\n",
      "Precision:  0.01885001691879802\n",
      "F1 Score: 0.036948661743413866\n",
      "ROC AUC Score: 0.9322927774756087\n"
     ]
    }
   ],
   "source": [
    "print(\"--Train--\")\n",
    "evaluate_model(y_train, pred_train1)\n",
    "print(\"--Valid--\")\n",
    "evaluate_model(y_valid, pred_valid1)"
   ]
  },
  {
   "cell_type": "markdown",
   "id": "95ea1cbb",
   "metadata": {},
   "source": [
    "#### Decision Tree\n",
    "\n",
    "#### Model 2"
   ]
  },
  {
   "cell_type": "code",
   "execution_count": 72,
   "id": "71a58171",
   "metadata": {},
   "outputs": [],
   "source": [
    "from sklearn.tree import DecisionTreeClassifier\n",
    "dtclf1 = DecisionTreeClassifier()"
   ]
  },
  {
   "cell_type": "code",
   "execution_count": 73,
   "id": "b9554d38",
   "metadata": {},
   "outputs": [
    {
     "data": {
      "text/plain": [
       "DecisionTreeClassifier()"
      ]
     },
     "execution_count": 73,
     "metadata": {},
     "output_type": "execute_result"
    }
   ],
   "source": [
    "dtclf1.fit(x_train, y_train)"
   ]
  },
  {
   "cell_type": "code",
   "execution_count": 74,
   "id": "3bfb77a6",
   "metadata": {},
   "outputs": [],
   "source": [
    "pred_train_dt1 = dtclf1.predict(x_train)\n",
    "pred_valid_dt1 = dtclf1.predict(x_valid)"
   ]
  },
  {
   "cell_type": "code",
   "execution_count": 75,
   "id": "d4f5cf89",
   "metadata": {},
   "outputs": [
    {
     "name": "stdout",
     "output_type": "stream",
     "text": [
      "--Train--\n",
      "Confusion Matrix \n",
      " [[4448085       0]\n",
      " [      0    5749]]\n",
      "Accurcay :  1.0\n",
      "Recall   :  1.0\n",
      "Precision:  1.0\n",
      "F1 Score: 1.0\n",
      "ROC AUC Score: 1.0\n",
      "--Valid--\n",
      "Confusion Matrix \n",
      " [[1905806     516]\n",
      " [    444    2020]]\n",
      "Accurcay :  0.9994970625308442\n",
      "Recall   :  0.8198051948051948\n",
      "Precision:  0.7965299684542587\n",
      "F1 Score: 0.8079999999999999\n",
      "ROC AUC Score: 0.9097672582521286\n"
     ]
    }
   ],
   "source": [
    "print(\"--Train--\")\n",
    "evaluate_model(y_train, pred_train_dt1)\n",
    "print(\"--Valid--\")\n",
    "evaluate_model(y_valid, pred_valid_dt1)"
   ]
  },
  {
   "cell_type": "markdown",
   "id": "a306b0c9",
   "metadata": {},
   "source": [
    "#### Model 3"
   ]
  },
  {
   "cell_type": "code",
   "execution_count": 76,
   "id": "bb44252f",
   "metadata": {},
   "outputs": [],
   "source": [
    "dtclf2 = DecisionTreeClassifier(class_weight = 'balanced', random_state = 42)"
   ]
  },
  {
   "cell_type": "code",
   "execution_count": 77,
   "id": "2c98423b",
   "metadata": {},
   "outputs": [
    {
     "data": {
      "text/plain": [
       "DecisionTreeClassifier(class_weight='balanced', random_state=42)"
      ]
     },
     "execution_count": 77,
     "metadata": {},
     "output_type": "execute_result"
    }
   ],
   "source": [
    "dtclf2.fit(x_train, y_train)"
   ]
  },
  {
   "cell_type": "code",
   "execution_count": 78,
   "id": "bce1a6a2",
   "metadata": {},
   "outputs": [],
   "source": [
    "pred_train_dt2 = dtclf2.predict(x_train)\n",
    "pred_valid_dt2 = dtclf2.predict(x_valid)"
   ]
  },
  {
   "cell_type": "code",
   "execution_count": 79,
   "id": "d12465a3",
   "metadata": {},
   "outputs": [
    {
     "name": "stdout",
     "output_type": "stream",
     "text": [
      "--Train--\n",
      "Confusion Matrix \n",
      " [[4448085       0]\n",
      " [      0    5749]]\n",
      "Accurcay :  1.0\n",
      "Recall   :  1.0\n",
      "Precision:  1.0\n",
      "F1 Score: 1.0\n",
      "ROC AUC Score: 1.0\n",
      "--Valid--\n",
      "Confusion Matrix \n",
      " [[1905956     366]\n",
      " [    428    2036]]\n",
      "Accurcay :  0.9995840288015524\n",
      "Recall   :  0.8262987012987013\n",
      "Precision:  0.8476269775187344\n",
      "F1 Score: 0.8368269625976161\n",
      "ROC AUC Score: 0.9130533542751809\n"
     ]
    }
   ],
   "source": [
    "print(\"--Train--\")\n",
    "evaluate_model(y_train, pred_train_dt2)\n",
    "print(\"--Valid--\")\n",
    "evaluate_model(y_valid, pred_valid_dt2)"
   ]
  },
  {
   "cell_type": "markdown",
   "id": "568744ce",
   "metadata": {},
   "source": [
    "### Model 4 (Final)"
   ]
  },
  {
   "cell_type": "markdown",
   "id": "b4f2f778",
   "metadata": {},
   "source": [
    "##### Assigning Class Weights manually"
   ]
  },
  {
   "cell_type": "code",
   "execution_count": 80,
   "id": "c2c7c8dc",
   "metadata": {},
   "outputs": [],
   "source": [
    "class_weights = {0: 1.0, 1: 2700.0}"
   ]
  },
  {
   "cell_type": "markdown",
   "id": "e1496356",
   "metadata": {},
   "source": [
    "##### Instantiate"
   ]
  },
  {
   "cell_type": "code",
   "execution_count": 81,
   "id": "eedb7269",
   "metadata": {},
   "outputs": [],
   "source": [
    "dtclf3 = DecisionTreeClassifier(class_weight=class_weights, random_state=42)"
   ]
  },
  {
   "cell_type": "markdown",
   "id": "7160dbb4",
   "metadata": {},
   "source": [
    "##### Train"
   ]
  },
  {
   "cell_type": "code",
   "execution_count": 82,
   "id": "b9c833dd",
   "metadata": {},
   "outputs": [
    {
     "data": {
      "text/plain": [
       "DecisionTreeClassifier(class_weight={0: 1.0, 1: 2700.0}, random_state=42)"
      ]
     },
     "execution_count": 82,
     "metadata": {},
     "output_type": "execute_result"
    }
   ],
   "source": [
    "dtclf3.fit(x_train,y_train)"
   ]
  },
  {
   "cell_type": "markdown",
   "id": "f0e60ac1",
   "metadata": {},
   "source": [
    "##### Predict"
   ]
  },
  {
   "cell_type": "code",
   "execution_count": 83,
   "id": "904fcfcc",
   "metadata": {},
   "outputs": [],
   "source": [
    "pred_train_tuned3 = dtclf3.predict(x_train)\n",
    "pred_valid_tuned3 = dtclf3.predict(x_valid)"
   ]
  },
  {
   "cell_type": "markdown",
   "id": "e9411e6e",
   "metadata": {},
   "source": [
    "##### Evaluate"
   ]
  },
  {
   "cell_type": "code",
   "execution_count": 84,
   "id": "58ed36d0",
   "metadata": {},
   "outputs": [
    {
     "name": "stdout",
     "output_type": "stream",
     "text": [
      "--Train--\n",
      "Confusion Matrix \n",
      " [[4448085       0]\n",
      " [      0    5749]]\n",
      "Accurcay :  1.0\n",
      "Recall   :  1.0\n",
      "Precision:  1.0\n",
      "F1 Score: 1.0\n",
      "ROC AUC Score: 1.0\n",
      "--Valid--\n",
      "Confusion Matrix \n",
      " [[1905969     353]\n",
      " [    404    2060]]\n",
      "Accurcay :  0.9996034128498428\n",
      "Recall   :  0.836038961038961\n",
      "Precision:  0.8537090758392043\n",
      "F1 Score: 0.8447816280500308\n",
      "ROC AUC Score: 0.9179268938525901\n"
     ]
    }
   ],
   "source": [
    "print(\"--Train--\")\n",
    "evaluate_model(y_train, pred_train_tuned3)\n",
    "print(\"--Valid--\")\n",
    "evaluate_model(y_valid, pred_valid_tuned3)"
   ]
  },
  {
   "cell_type": "markdown",
   "id": "d18a90d1",
   "metadata": {},
   "source": [
    "***"
   ]
  },
  {
   "cell_type": "markdown",
   "id": "89db8228",
   "metadata": {},
   "source": [
    "### Conclusion"
   ]
  },
  {
   "cell_type": "markdown",
   "id": "e98deef7",
   "metadata": {},
   "source": [
    "Models Built : <br>\n",
    "- Logistic Regression\n",
    "- Decision Tree Classifier\n",
    "<br>\n",
    "\n",
    "The major concern is to reduce the number of false positives. While preventing fraud is critical, an excessively high false positive rate could lead to operational inefficiencies. So, Decision Tree is built with some class weights assigned manually so as to tackle class imbalance as well as target in improving false positives, without overfitting or underfitting. There aint a greater change with a threshold given as hyper parameter.<br>\n",
    "\n",
    "Though Logistic could give good accuracy, the recall and precision scores were too low.<br>\n",
    "Even XG Boost could not give less false positives, instead took high computational power.<br>\n",
    "But, Decision Tree Classifier worked decent enough for this case, with accuracy of 99% for both train and validation datasets."
   ]
  },
  {
   "cell_type": "markdown",
   "id": "390af23a",
   "metadata": {},
   "source": [
    "***"
   ]
  },
  {
   "cell_type": "markdown",
   "id": "40ba5896",
   "metadata": {},
   "source": [
    "### Elaboration"
   ]
  },
  {
   "cell_type": "markdown",
   "id": "fde8be1b",
   "metadata": {},
   "source": [
    "- Started off with data cleaning, while understanding and exploring the data. There were no duplicates nor any missing values in the data to handle. \n",
    "- Many independent variables were highly correlated. Multicollinearity need not be a primary concern for classification problem, unlike a regression problem. But because it can increase the risk of overfitting, handled it by some feature engineering and removing unwanted columns which the features already justified. \n",
    "- Removed the names of customers which has many unique values and can result in high cardinality, extracting the details if it was a merchant or customer's transaction, it is important as there were no fraud cases in merchant transactions, which indeed is the reason for no fraud cases in payment type. Converted 'step' column to time period of the day, to avoid bias in the model due to its range of unique values. All the columns were properly utilised, either as it is, or by new feature extraction.\n",
    "- Amongst all, my decision tree model gave the best results, i.e., by assigning class weights so as to handle class imbalance. If the dataset is imbalanced, and the majority class (non-fraudulent transactions) dominates the data, the model may be biased towards predicting the majority class and perform poorly on the minority class (fraudulent transactions). So, I both used inbuilt as well as assigned weights as hyperparameter. In the process of validating continuously, landed up at one weight, which gave a decent results.\n",
    "- Used Accuracy, Recall, Precision, F1 Score and ROC AUC Score, as evaluation metrics, and developed a promising model.\n",
    "- Amount transacted, type of transaction(only cash-out and transfer has fraud cases), difference between old and new balance at receivers end might play a major role in this particular dataset.\n",
    "- Yes, the factors makes sense because some times high amount and sudden transactions can be suspicious. Type :- cash in & payments - there is no point in fraudulent transactions either while crediting amount into an account or paying. \n",
    "- When a company updates its infrastructure, especially in the context of fraud prevention, it is essential to take several preventive measures to ensure the security and integrity of the system, like, Data Encryption, Access Control, Two Step Verification, Regular Security Audits and Testing and most importantly Training and Awarness.\n",
    "- Continuous monitoring of security incidents and attempted fraud activities, keeping track of any security breaches or unauthorized access attempts can help analyzing the effectiveness of the implemented measures in detecting these incidents."
   ]
  },
  {
   "cell_type": "markdown",
   "id": "d3da82f2",
   "metadata": {},
   "source": [
    "### Thank You!"
   ]
  }
 ],
 "metadata": {
  "kernelspec": {
   "display_name": "Python 3 (ipykernel)",
   "language": "python",
   "name": "python3"
  },
  "language_info": {
   "codemirror_mode": {
    "name": "ipython",
    "version": 3
   },
   "file_extension": ".py",
   "mimetype": "text/x-python",
   "name": "python",
   "nbconvert_exporter": "python",
   "pygments_lexer": "ipython3",
   "version": "3.9.12"
  }
 },
 "nbformat": 4,
 "nbformat_minor": 5
}
